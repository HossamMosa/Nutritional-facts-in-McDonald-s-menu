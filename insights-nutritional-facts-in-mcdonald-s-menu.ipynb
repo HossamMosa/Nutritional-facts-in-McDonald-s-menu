{
 "cells": [
  {
   "cell_type": "code",
   "execution_count": 1,
   "id": "pretty-negative",
   "metadata": {
    "_cell_guid": "b1076dfc-b9ad-4769-8c92-a6c4dae69d19",
    "_uuid": "8f2839f25d086af736a60e9eeb907d3b93b6e0e5",
    "execution": {
     "iopub.execute_input": "2021-05-10T15:51:23.234818Z",
     "iopub.status.busy": "2021-05-10T15:51:23.233642Z",
     "iopub.status.idle": "2021-05-10T15:51:23.256740Z",
     "shell.execute_reply": "2021-05-10T15:51:23.257214Z"
    },
    "papermill": {
     "duration": 0.053041,
     "end_time": "2021-05-10T15:51:23.257520",
     "exception": false,
     "start_time": "2021-05-10T15:51:23.204479",
     "status": "completed"
    },
    "tags": []
   },
   "outputs": [
    {
     "name": "stdout",
     "output_type": "stream",
     "text": [
      "/kaggle/input/nutrition-facts/menu.csv\n"
     ]
    }
   ],
   "source": [
    "import numpy as np # linear algebra\n",
    "import pandas as pd # data processing, CSV file I/O (e.g. pd.read_csv)\n",
    "\n",
    "import os\n",
    "for dirname, _, filenames in os.walk('/kaggle/input'):\n",
    "    for filename in filenames:\n",
    "        print(os.path.join(dirname, filename))"
   ]
  },
  {
   "cell_type": "code",
   "execution_count": 2,
   "id": "significant-yahoo",
   "metadata": {
    "execution": {
     "iopub.execute_input": "2021-05-10T15:51:23.316498Z",
     "iopub.status.busy": "2021-05-10T15:51:23.315794Z",
     "iopub.status.idle": "2021-05-10T15:51:25.784852Z",
     "shell.execute_reply": "2021-05-10T15:51:25.783958Z"
    },
    "papermill": {
     "duration": 2.502458,
     "end_time": "2021-05-10T15:51:25.785016",
     "exception": false,
     "start_time": "2021-05-10T15:51:23.282558",
     "status": "completed"
    },
    "tags": []
   },
   "outputs": [],
   "source": [
    "import missingno as msno\n",
    "import matplotlib.pyplot as plt\n",
    "%matplotlib inline\n",
    "import seaborn as sns\n",
    "import plotly.express as px\n",
    "import plotly.graph_objects as go"
   ]
  },
  {
   "cell_type": "markdown",
   "id": "challenging-effects",
   "metadata": {
    "papermill": {
     "duration": 0.024085,
     "end_time": "2021-05-10T15:51:25.833843",
     "exception": false,
     "start_time": "2021-05-10T15:51:25.809758",
     "status": "completed"
    },
    "tags": []
   },
   "source": [
    "<font size=4><b>Read the Data</b></font>"
   ]
  },
  {
   "cell_type": "code",
   "execution_count": 3,
   "id": "massive-convert",
   "metadata": {
    "execution": {
     "iopub.execute_input": "2021-05-10T15:51:25.889673Z",
     "iopub.status.busy": "2021-05-10T15:51:25.888927Z",
     "iopub.status.idle": "2021-05-10T15:51:25.955922Z",
     "shell.execute_reply": "2021-05-10T15:51:25.955323Z"
    },
    "papermill": {
     "duration": 0.096185,
     "end_time": "2021-05-10T15:51:25.956070",
     "exception": false,
     "start_time": "2021-05-10T15:51:25.859885",
     "status": "completed"
    },
    "tags": []
   },
   "outputs": [
    {
     "data": {
      "text/html": [
       "<div>\n",
       "<style scoped>\n",
       "    .dataframe tbody tr th:only-of-type {\n",
       "        vertical-align: middle;\n",
       "    }\n",
       "\n",
       "    .dataframe tbody tr th {\n",
       "        vertical-align: top;\n",
       "    }\n",
       "\n",
       "    .dataframe thead th {\n",
       "        text-align: right;\n",
       "    }\n",
       "</style>\n",
       "<table border=\"1\" class=\"dataframe\">\n",
       "  <thead>\n",
       "    <tr style=\"text-align: right;\">\n",
       "      <th></th>\n",
       "      <th>Category</th>\n",
       "      <th>Item</th>\n",
       "      <th>Serving Size</th>\n",
       "      <th>Calories</th>\n",
       "      <th>Calories from Fat</th>\n",
       "      <th>Total Fat</th>\n",
       "      <th>Total Fat (% Daily Value)</th>\n",
       "      <th>Saturated Fat</th>\n",
       "      <th>Saturated Fat (% Daily Value)</th>\n",
       "      <th>Trans Fat</th>\n",
       "      <th>...</th>\n",
       "      <th>Carbohydrates</th>\n",
       "      <th>Carbohydrates (% Daily Value)</th>\n",
       "      <th>Dietary Fiber</th>\n",
       "      <th>Dietary Fiber (% Daily Value)</th>\n",
       "      <th>Sugars</th>\n",
       "      <th>Protein</th>\n",
       "      <th>Vitamin A (% Daily Value)</th>\n",
       "      <th>Vitamin C (% Daily Value)</th>\n",
       "      <th>Calcium (% Daily Value)</th>\n",
       "      <th>Iron (% Daily Value)</th>\n",
       "    </tr>\n",
       "  </thead>\n",
       "  <tbody>\n",
       "    <tr>\n",
       "      <th>0</th>\n",
       "      <td>Breakfast</td>\n",
       "      <td>Egg McMuffin</td>\n",
       "      <td>4.8 oz (136 g)</td>\n",
       "      <td>300</td>\n",
       "      <td>120</td>\n",
       "      <td>13.0</td>\n",
       "      <td>20</td>\n",
       "      <td>5.0</td>\n",
       "      <td>25</td>\n",
       "      <td>0.0</td>\n",
       "      <td>...</td>\n",
       "      <td>31</td>\n",
       "      <td>10</td>\n",
       "      <td>4</td>\n",
       "      <td>17</td>\n",
       "      <td>3</td>\n",
       "      <td>17</td>\n",
       "      <td>10</td>\n",
       "      <td>0</td>\n",
       "      <td>25</td>\n",
       "      <td>15</td>\n",
       "    </tr>\n",
       "    <tr>\n",
       "      <th>1</th>\n",
       "      <td>Breakfast</td>\n",
       "      <td>Egg White Delight</td>\n",
       "      <td>4.8 oz (135 g)</td>\n",
       "      <td>250</td>\n",
       "      <td>70</td>\n",
       "      <td>8.0</td>\n",
       "      <td>12</td>\n",
       "      <td>3.0</td>\n",
       "      <td>15</td>\n",
       "      <td>0.0</td>\n",
       "      <td>...</td>\n",
       "      <td>30</td>\n",
       "      <td>10</td>\n",
       "      <td>4</td>\n",
       "      <td>17</td>\n",
       "      <td>3</td>\n",
       "      <td>18</td>\n",
       "      <td>6</td>\n",
       "      <td>0</td>\n",
       "      <td>25</td>\n",
       "      <td>8</td>\n",
       "    </tr>\n",
       "    <tr>\n",
       "      <th>2</th>\n",
       "      <td>Breakfast</td>\n",
       "      <td>Sausage McMuffin</td>\n",
       "      <td>3.9 oz (111 g)</td>\n",
       "      <td>370</td>\n",
       "      <td>200</td>\n",
       "      <td>23.0</td>\n",
       "      <td>35</td>\n",
       "      <td>8.0</td>\n",
       "      <td>42</td>\n",
       "      <td>0.0</td>\n",
       "      <td>...</td>\n",
       "      <td>29</td>\n",
       "      <td>10</td>\n",
       "      <td>4</td>\n",
       "      <td>17</td>\n",
       "      <td>2</td>\n",
       "      <td>14</td>\n",
       "      <td>8</td>\n",
       "      <td>0</td>\n",
       "      <td>25</td>\n",
       "      <td>10</td>\n",
       "    </tr>\n",
       "    <tr>\n",
       "      <th>3</th>\n",
       "      <td>Breakfast</td>\n",
       "      <td>Sausage McMuffin with Egg</td>\n",
       "      <td>5.7 oz (161 g)</td>\n",
       "      <td>450</td>\n",
       "      <td>250</td>\n",
       "      <td>28.0</td>\n",
       "      <td>43</td>\n",
       "      <td>10.0</td>\n",
       "      <td>52</td>\n",
       "      <td>0.0</td>\n",
       "      <td>...</td>\n",
       "      <td>30</td>\n",
       "      <td>10</td>\n",
       "      <td>4</td>\n",
       "      <td>17</td>\n",
       "      <td>2</td>\n",
       "      <td>21</td>\n",
       "      <td>15</td>\n",
       "      <td>0</td>\n",
       "      <td>30</td>\n",
       "      <td>15</td>\n",
       "    </tr>\n",
       "    <tr>\n",
       "      <th>4</th>\n",
       "      <td>Breakfast</td>\n",
       "      <td>Sausage McMuffin with Egg Whites</td>\n",
       "      <td>5.7 oz (161 g)</td>\n",
       "      <td>400</td>\n",
       "      <td>210</td>\n",
       "      <td>23.0</td>\n",
       "      <td>35</td>\n",
       "      <td>8.0</td>\n",
       "      <td>42</td>\n",
       "      <td>0.0</td>\n",
       "      <td>...</td>\n",
       "      <td>30</td>\n",
       "      <td>10</td>\n",
       "      <td>4</td>\n",
       "      <td>17</td>\n",
       "      <td>2</td>\n",
       "      <td>21</td>\n",
       "      <td>6</td>\n",
       "      <td>0</td>\n",
       "      <td>25</td>\n",
       "      <td>10</td>\n",
       "    </tr>\n",
       "  </tbody>\n",
       "</table>\n",
       "<p>5 rows × 24 columns</p>\n",
       "</div>"
      ],
      "text/plain": [
       "    Category                              Item    Serving Size  Calories  \\\n",
       "0  Breakfast                      Egg McMuffin  4.8 oz (136 g)       300   \n",
       "1  Breakfast                 Egg White Delight  4.8 oz (135 g)       250   \n",
       "2  Breakfast                  Sausage McMuffin  3.9 oz (111 g)       370   \n",
       "3  Breakfast         Sausage McMuffin with Egg  5.7 oz (161 g)       450   \n",
       "4  Breakfast  Sausage McMuffin with Egg Whites  5.7 oz (161 g)       400   \n",
       "\n",
       "   Calories from Fat  Total Fat  Total Fat (% Daily Value)  Saturated Fat  \\\n",
       "0                120       13.0                         20            5.0   \n",
       "1                 70        8.0                         12            3.0   \n",
       "2                200       23.0                         35            8.0   \n",
       "3                250       28.0                         43           10.0   \n",
       "4                210       23.0                         35            8.0   \n",
       "\n",
       "   Saturated Fat (% Daily Value)  Trans Fat  ...  Carbohydrates  \\\n",
       "0                             25        0.0  ...             31   \n",
       "1                             15        0.0  ...             30   \n",
       "2                             42        0.0  ...             29   \n",
       "3                             52        0.0  ...             30   \n",
       "4                             42        0.0  ...             30   \n",
       "\n",
       "   Carbohydrates (% Daily Value)  Dietary Fiber  \\\n",
       "0                             10              4   \n",
       "1                             10              4   \n",
       "2                             10              4   \n",
       "3                             10              4   \n",
       "4                             10              4   \n",
       "\n",
       "   Dietary Fiber (% Daily Value)  Sugars  Protein  Vitamin A (% Daily Value)  \\\n",
       "0                             17       3       17                         10   \n",
       "1                             17       3       18                          6   \n",
       "2                             17       2       14                          8   \n",
       "3                             17       2       21                         15   \n",
       "4                             17       2       21                          6   \n",
       "\n",
       "   Vitamin C (% Daily Value)  Calcium (% Daily Value)  Iron (% Daily Value)  \n",
       "0                          0                       25                    15  \n",
       "1                          0                       25                     8  \n",
       "2                          0                       25                    10  \n",
       "3                          0                       30                    15  \n",
       "4                          0                       25                    10  \n",
       "\n",
       "[5 rows x 24 columns]"
      ]
     },
     "execution_count": 3,
     "metadata": {},
     "output_type": "execute_result"
    }
   ],
   "source": [
    "df=pd.read_csv('../input/nutrition-facts/menu.csv')\n",
    "df.head()"
   ]
  },
  {
   "cell_type": "markdown",
   "id": "respective-notebook",
   "metadata": {
    "papermill": {
     "duration": 0.02679,
     "end_time": "2021-05-10T15:51:26.011829",
     "exception": false,
     "start_time": "2021-05-10T15:51:25.985039",
     "status": "completed"
    },
    "tags": []
   },
   "source": [
    "<font size=4><b>Checking for null values</b></font>"
   ]
  },
  {
   "cell_type": "code",
   "execution_count": 4,
   "id": "structural-track",
   "metadata": {
    "execution": {
     "iopub.execute_input": "2021-05-10T15:51:26.075851Z",
     "iopub.status.busy": "2021-05-10T15:51:26.075113Z",
     "iopub.status.idle": "2021-05-10T15:51:26.822198Z",
     "shell.execute_reply": "2021-05-10T15:51:26.822791Z"
    },
    "papermill": {
     "duration": 0.785623,
     "end_time": "2021-05-10T15:51:26.822969",
     "exception": false,
     "start_time": "2021-05-10T15:51:26.037346",
     "status": "completed"
    },
    "tags": []
   },
   "outputs": [
    {
     "data": {
      "text/plain": [
       "<AxesSubplot:>"
      ]
     },
     "execution_count": 4,
     "metadata": {},
     "output_type": "execute_result"
    },
    {
     "data": {
      "image/png": "[encoded data removed]",
      "text/plain": [
       "<Figure size 1800x720 with 2 Axes>"
      ]
     },
     "metadata": {
      "needs_background": "light"
     },
     "output_type": "display_data"
    }
   ],
   "source": [
    "msno.matrix(df)"
   ]
  },
  {
   "cell_type": "markdown",
   "id": "dying-vintage",
   "metadata": {
    "papermill": {
     "duration": 0.029178,
     "end_time": "2021-05-10T15:51:26.883727",
     "exception": false,
     "start_time": "2021-05-10T15:51:26.854549",
     "status": "completed"
    },
    "tags": []
   },
   "source": [
    "<font size=4><b>Unique values in Category Column</b></font>"
   ]
  },
  {
   "cell_type": "code",
   "execution_count": 5,
   "id": "great-stuart",
   "metadata": {
    "execution": {
     "iopub.execute_input": "2021-05-10T15:51:26.947916Z",
     "iopub.status.busy": "2021-05-10T15:51:26.946858Z",
     "iopub.status.idle": "2021-05-10T15:51:26.956138Z",
     "shell.execute_reply": "2021-05-10T15:51:26.956930Z"
    },
    "papermill": {
     "duration": 0.044429,
     "end_time": "2021-05-10T15:51:26.957149",
     "exception": false,
     "start_time": "2021-05-10T15:51:26.912720",
     "status": "completed"
    },
    "tags": []
   },
   "outputs": [
    {
     "data": {
      "text/plain": [
       "array(['Breakfast', 'Beef & Pork', 'Chicken & Fish', 'Salads',\n",
       "       'Snacks & Sides', 'Desserts', 'Beverages', 'Coffee & Tea',\n",
       "       'Smoothies & Shakes'], dtype=object)"
      ]
     },
     "execution_count": 5,
     "metadata": {},
     "output_type": "execute_result"
    }
   ],
   "source": [
    "df.Category.unique()"
   ]
  },
  {
   "cell_type": "markdown",
   "id": "comfortable-bride",
   "metadata": {
    "papermill": {
     "duration": 0.031367,
     "end_time": "2021-05-10T15:51:27.019072",
     "exception": false,
     "start_time": "2021-05-10T15:51:26.987705",
     "status": "completed"
    },
    "tags": []
   },
   "source": [
    "<font size=3>Below we analyse the count for each Category in McDonald's menu. We observe that Coffee and Tea has been consumed heavily by the customers</font>"
   ]
  },
  {
   "cell_type": "code",
   "execution_count": 6,
   "id": "illegal-regular",
   "metadata": {
    "execution": {
     "iopub.execute_input": "2021-05-10T15:51:27.080935Z",
     "iopub.status.busy": "2021-05-10T15:51:27.080253Z",
     "iopub.status.idle": "2021-05-10T15:51:27.303119Z",
     "shell.execute_reply": "2021-05-10T15:51:27.302576Z"
    },
    "papermill": {
     "duration": 0.254835,
     "end_time": "2021-05-10T15:51:27.303303",
     "exception": false,
     "start_time": "2021-05-10T15:51:27.048468",
     "status": "completed"
    },
    "tags": []
   },
   "outputs": [
    {
     "data": {
      "image/png": "[encoded data removed]",
      "text/plain": [
       "<Figure size 700x400 with 1 Axes>"
      ]
     },
     "metadata": {},
     "output_type": "display_data"
    }
   ],
   "source": [
    "plt.style.use('default')\n",
    "plt.figure(figsize=(7,4),edgecolor='0.1',dpi=100)\n",
    "a=sns.countplot(x='Category',facecolor='darkgreen',data=df)\n",
    "\n",
    "\n",
    "xticks=plt.xticks(rotation=55,family='serif')\n",
    "yticks=plt.yticks(family='serif')\n",
    "\n",
    "plt.xlabel(df['Category'].all(),font='serif')\n",
    "plt.ylabel('Count',font='serif')\n",
    "\n",
    "a.spines['bottom'].set_color('gray')\n",
    "a.spines['left'].set_color('gray')\n",
    "sns.despine()"
   ]
  },
  {
   "cell_type": "markdown",
   "id": "residential-bandwidth",
   "metadata": {
    "papermill": {
     "duration": 0.030659,
     "end_time": "2021-05-10T15:51:27.365727",
     "exception": false,
     "start_time": "2021-05-10T15:51:27.335068",
     "status": "completed"
    },
    "tags": []
   },
   "source": [
    "<font size=5><b>Analysis of Number of Items per Category</b></font>\n",
    "<br>\n",
    "<font size=4>Below we observe that Coffee and Tea category has the most number of unique items followed by Breakfast in the menu.</font>"
   ]
  },
  {
   "cell_type": "code",
   "execution_count": 7,
   "id": "native-birthday",
   "metadata": {
    "execution": {
     "iopub.execute_input": "2021-05-10T15:51:27.435811Z",
     "iopub.status.busy": "2021-05-10T15:51:27.435081Z",
     "iopub.status.idle": "2021-05-10T15:51:28.962957Z",
     "shell.execute_reply": "2021-05-10T15:51:28.962393Z"
    },
    "papermill": {
     "duration": 1.565107,
     "end_time": "2021-05-10T15:51:28.963099",
     "exception": false,
     "start_time": "2021-05-10T15:51:27.397992",
     "status": "completed"
    },
    "tags": []
   },
   "outputs": [
    {
     "data": {
      "text/html": [
       "        <script type=\"text/javascript\">\n",
       "        window.PlotlyConfig = {MathJaxConfig: 'local'};\n",
       "        if (window.MathJax) {MathJax.Hub.Config({SVG: {font: \"STIX-Web\"}});}\n",
       "        if (typeof require !== 'undefined') {\n",
       "        require.undef(\"plotly\");\n",
       "        requirejs.config({\n",
       "            paths: {\n",
       "                'plotly': ['https://cdn.plot.ly/plotly-latest.min']\n",
       "            }\n",
       "        });\n",
       "        require(['plotly'], function(Plotly) {\n",
       "            window._Plotly = Plotly;\n",
       "        });\n",
       "        }\n",
       "        </script>\n",
       "        "
      ]
     },
     "metadata": {},
     "output_type": "display_data"
    },
    {
     "data": {
      "text/html": [
       "<div>                            <div id=\"e5f7a998-53cb-4ebd-a64c-278d678bc7bc\" class=\"plotly-graph-div\" style=\"height:525px; width:900px;\"></div>            <script type=\"text/javascript\">                require([\"plotly\"], function(Plotly) {                    window.PLOTLYENV=window.PLOTLYENV || {};                                    if (document.getElementById(\"e5f7a998-53cb-4ebd-a64c-278d678bc7bc\")) {                    Plotly.newPlot(                        \"e5f7a998-53cb-4ebd-a64c-278d678bc7bc\",                        [{\"coloraxis\": \"coloraxis\", \"hovertemplate\": \"Category=%{x}<br>Item=%{y}<br>count=%{z}<extra></extra>\", \"name\": \"\", \"type\": \"histogram2d\", \"x\": [\"Breakfast\", \"Breakfast\", \"Breakfast\", \"Breakfast\", \"Breakfast\", \"Breakfast\", \"Breakfast\", \"Breakfast\", \"Breakfast\", \"Breakfast\", \"Breakfast\", \"Breakfast\", \"Breakfast\", \"Breakfast\", \"Breakfast\", \"Breakfast\", \"Breakfast\", \"Breakfast\", \"Breakfast\", \"Breakfast\", \"Breakfast\", \"Breakfast\", \"Breakfast\", \"Breakfast\", \"Breakfast\", \"Breakfast\", \"Breakfast\", \"Breakfast\", \"Breakfast\", \"Breakfast\", \"Breakfast\", \"Breakfast\", \"Breakfast\", \"Breakfast\", \"Breakfast\", \"Breakfast\", \"Breakfast\", \"Breakfast\", \"Breakfast\", \"Breakfast\", \"Breakfast\", \"Breakfast\", \"Beef & Pork\", \"Beef & Pork\", \"Beef & Pork\", \"Beef & Pork\", \"Beef & Pork\", \"Beef & Pork\", \"Beef & Pork\", \"Beef & Pork\", \"Beef & Pork\", \"Beef & Pork\", \"Beef & Pork\", \"Beef & Pork\", \"Beef & Pork\", \"Beef & Pork\", \"Beef & Pork\", \"Chicken & Fish\", \"Chicken & Fish\", \"Chicken & Fish\", \"Chicken & Fish\", \"Chicken & Fish\", \"Chicken & Fish\", \"Chicken & Fish\", \"Chicken & Fish\", \"Chicken & Fish\", \"Chicken & Fish\", \"Chicken & Fish\", \"Chicken & Fish\", \"Chicken & Fish\", \"Chicken & Fish\", \"Chicken & Fish\", \"Chicken & Fish\", \"Chicken & Fish\", \"Chicken & Fish\", \"Chicken & Fish\", \"Chicken & Fish\", \"Chicken & Fish\", \"Chicken & Fish\", \"Chicken & Fish\", \"Chicken & Fish\", \"Chicken & Fish\", \"Chicken & Fish\", \"Chicken & Fish\", \"Salads\", \"Salads\", \"Salads\", \"Salads\", \"Salads\", \"Salads\", \"Snacks & Sides\", \"Snacks & Sides\", \"Snacks & Sides\", \"Snacks & Sides\", \"Snacks & Sides\", \"Snacks & Sides\", \"Snacks & Sides\", \"Snacks & Sides\", \"Snacks & Sides\", \"Snacks & Sides\", \"Snacks & Sides\", \"Snacks & Sides\", \"Snacks & Sides\", \"Desserts\", \"Desserts\", \"Desserts\", \"Desserts\", \"Desserts\", \"Desserts\", \"Desserts\", \"Beverages\", \"Beverages\", \"Beverages\", \"Beverages\", \"Beverages\", \"Beverages\", \"Beverages\", \"Beverages\", \"Beverages\", \"Beverages\", \"Beverages\", \"Beverages\", \"Beverages\", \"Beverages\", \"Beverages\", \"Beverages\", \"Beverages\", \"Beverages\", \"Beverages\", \"Beverages\", \"Beverages\", \"Beverages\", \"Beverages\", \"Beverages\", \"Beverages\", \"Beverages\", \"Beverages\", \"Coffee & Tea\", \"Coffee & Tea\", \"Coffee & Tea\", \"Coffee & Tea\", \"Coffee & Tea\", \"Coffee & Tea\", \"Coffee & Tea\", \"Coffee & Tea\", \"Coffee & Tea\", \"Coffee & Tea\", \"Coffee & Tea\", \"Coffee & Tea\", \"Coffee & Tea\", \"Coffee & Tea\", \"Coffee & Tea\", \"Coffee & Tea\", \"Coffee & Tea\", \"Coffee & Tea\", \"Coffee & Tea\", \"Coffee & Tea\", \"Coffee & Tea\", \"Coffee & Tea\", \"Coffee & Tea\", \"Coffee & Tea\", \"Coffee & Tea\", \"Coffee & Tea\", \"Coffee & Tea\", \"Coffee & Tea\", \"Coffee & Tea\", \"Coffee & Tea\", \"Coffee & Tea\", \"Coffee & Tea\", \"Coffee & Tea\", \"Coffee & Tea\", \"Coffee & Tea\", \"Coffee & Tea\", \"Coffee & Tea\", \"Coffee & Tea\", \"Coffee & Tea\", \"Coffee & Tea\", \"Coffee & Tea\", \"Coffee & Tea\", \"Coffee & Tea\", \"Coffee & Tea\", \"Coffee & Tea\", \"Coffee & Tea\", \"Coffee & Tea\", \"Coffee & Tea\", \"Coffee & Tea\", \"Coffee & Tea\", \"Coffee & Tea\", \"Coffee & Tea\", \"Coffee & Tea\", \"Coffee & Tea\", \"Coffee & Tea\", \"Coffee & Tea\", \"Coffee & Tea\", \"Coffee & Tea\", \"Coffee & Tea\", \"Coffee & Tea\", \"Coffee & Tea\", \"Coffee & Tea\", \"Coffee & Tea\", \"Coffee & Tea\", \"Coffee & Tea\", \"Coffee & Tea\", \"Coffee & Tea\", \"Coffee & Tea\", \"Coffee & Tea\", \"Coffee & Tea\", \"Coffee & Tea\", \"Coffee & Tea\", \"Coffee & Tea\", \"Coffee & Tea\", \"Coffee & Tea\", \"Coffee & Tea\", \"Coffee & Tea\", \"Coffee & Tea\", \"Coffee & Tea\", \"Coffee & Tea\", \"Coffee & Tea\", \"Coffee & Tea\", \"Coffee & Tea\", \"Coffee & Tea\", \"Coffee & Tea\", \"Coffee & Tea\", \"Coffee & Tea\", \"Coffee & Tea\", \"Coffee & Tea\", \"Coffee & Tea\", \"Coffee & Tea\", \"Coffee & Tea\", \"Coffee & Tea\", \"Coffee & Tea\", \"Coffee & Tea\", \"Smoothies & Shakes\", \"Smoothies & Shakes\", \"Smoothies & Shakes\", \"Smoothies & Shakes\", \"Smoothies & Shakes\", \"Smoothies & Shakes\", \"Smoothies & Shakes\", \"Smoothies & Shakes\", \"Smoothies & Shakes\", \"Smoothies & Shakes\", \"Smoothies & Shakes\", \"Smoothies & Shakes\", \"Smoothies & Shakes\", \"Smoothies & Shakes\", \"Smoothies & Shakes\", \"Smoothies & Shakes\", \"Smoothies & Shakes\", \"Smoothies & Shakes\", \"Smoothies & Shakes\", \"Smoothies & Shakes\", \"Smoothies & Shakes\", \"Smoothies & Shakes\", \"Smoothies & Shakes\", \"Smoothies & Shakes\", \"Smoothies & Shakes\", \"Smoothies & Shakes\", \"Smoothies & Shakes\", \"Smoothies & Shakes\"], \"xaxis\": \"x\", \"xbingroup\": \"x\", \"y\": [\"Egg McMuffin\", \"Egg White Delight\", \"Sausage McMuffin\", \"Sausage McMuffin with Egg\", \"Sausage McMuffin with Egg Whites\", \"Steak & Egg McMuffin\", \"Bacon, Egg & Cheese Biscuit (Regular Biscuit)\", \"Bacon, Egg & Cheese Biscuit (Large Biscuit)\", \"Bacon, Egg & Cheese Biscuit with Egg Whites (Regular Biscuit)\", \"Bacon, Egg & Cheese Biscuit with Egg Whites (Large Biscuit)\", \"Sausage Biscuit (Regular Biscuit)\", \"Sausage Biscuit (Large Biscuit)\", \"Sausage Biscuit with Egg (Regular Biscuit)\", \"Sausage Biscuit with Egg (Large Biscuit)\", \"Sausage Biscuit with Egg Whites (Regular Biscuit)\", \"Sausage Biscuit with Egg Whites (Large Biscuit)\", \"Southern Style Chicken Biscuit (Regular Biscuit)\", \"Southern Style Chicken Biscuit (Large Biscuit)\", \"Steak & Egg Biscuit (Regular Biscuit)\", \"Bacon, Egg & Cheese McGriddles\", \"Bacon, Egg & Cheese McGriddles with Egg Whites\", \"Sausage McGriddles\", \"Sausage, Egg & Cheese McGriddles\", \"Sausage, Egg & Cheese McGriddles with Egg Whites\", \"Bacon, Egg & Cheese Bagel\", \"Bacon, Egg & Cheese Bagel with Egg Whites\", \"Steak, Egg & Cheese Bagel\", \"Big Breakfast (Regular Biscuit)\", \"Big Breakfast (Large Biscuit)\", \"Big Breakfast with Egg Whites (Regular Biscuit)\", \"Big Breakfast with Egg Whites (Large Biscuit)\", \"Big Breakfast with Hotcakes (Regular Biscuit)\", \"Big Breakfast with Hotcakes (Large Biscuit)\", \"Big Breakfast with Hotcakes and Egg Whites (Regular Biscuit)\", \"Big Breakfast with Hotcakes and Egg Whites (Large Biscuit)\", \"Hotcakes\", \"Hotcakes and Sausage\", \"Sausage Burrito\", \"Hash Brown\", \"Cinnamon Melts\", \"Fruit & Maple Oatmeal\", \"Fruit & Maple Oatmeal without Brown Sugar\", \"Big Mac\", \"Quarter Pounder with Cheese\", \"Quarter Pounder with Bacon & Cheese\", \"Quarter Pounder with Bacon Habanero Ranch\", \"Quarter Pounder Deluxe\", \"Double Quarter Pounder with Cheese\", \"Hamburger\", \"Cheeseburger\", \"Double Cheeseburger\", \"Bacon Clubhouse Burger\", \"McDouble\", \"Bacon McDouble\", \"Daily Double\", \"Jalape\\u00f1o Double\", \"McRib\", \"Premium Crispy Chicken Classic Sandwich\", \"Premium Grilled Chicken Classic Sandwich\", \"Premium Crispy Chicken Club Sandwich\", \"Premium Grilled Chicken Club Sandwich\", \"Premium Crispy Chicken Ranch BLT Sandwich\", \"Premium Grilled Chicken Ranch BLT Sandwich\", \"Bacon Clubhouse Crispy Chicken Sandwich\", \"Bacon Clubhouse Grilled Chicken Sandwich\", \"Southern Style Crispy Chicken Sandwich\", \"McChicken\", \"Bacon Cheddar McChicken\", \"Bacon Buffalo Ranch McChicken\", \"Buffalo Ranch McChicken\", \"Premium McWrap Chicken & Bacon (Crispy Chicken)\", \"Premium McWrap Chicken & Bacon (Grilled Chicken)\", \"Premium McWrap Chicken & Ranch (Crispy Chicken)\", \"Premium McWrap Chicken & Ranch (Grilled Chicken)\", \"Premium McWrap Southwest Chicken (Crispy Chicken)\", \"Premium McWrap Southwest Chicken (Grilled Chicken)\", \"Premium McWrap Chicken Sweet Chili (Crispy Chicken)\", \"Premium McWrap Chicken Sweet Chili (Grilled Chicken)\", \"Chicken McNuggets (4 piece)\", \"Chicken McNuggets (6 piece)\", \"Chicken McNuggets (10 piece)\", \"Chicken McNuggets (20 piece)\", \"Chicken McNuggets (40 piece)\", \"Filet-O-Fish\", \"Premium Bacon Ranch Salad (without Chicken)\", \"Premium Bacon Ranch Salad with Crispy Chicken\", \"Premium Bacon Ranch Salad with Grilled Chicken\", \"Premium Southwest Salad (without Chicken)\", \"Premium Southwest Salad with Crispy Chicken\", \"Premium Southwest Salad with Grilled Chicken\", \"Chipotle BBQ Snack Wrap (Crispy Chicken)\", \"Chipotle BBQ Snack Wrap (Grilled Chicken)\", \"Honey Mustard Snack Wrap (Crispy Chicken)\", \"Honey Mustard Snack Wrap (Grilled Chicken)\", \"Ranch Snack Wrap (Crispy Chicken)\", \"Ranch Snack Wrap (Grilled Chicken)\", \"Small French Fries\", \"Medium French Fries\", \"Large French Fries\", \"Kids French Fries\", \"Side Salad\", \"Apple Slices\", \"Fruit 'n Yogurt Parfait\", \"Baked Apple Pie\", \"Chocolate Chip Cookie\", \"Oatmeal Raisin Cookie\", \"Kids Ice Cream Cone\", \"Hot Fudge Sundae\", \"Hot Caramel Sundae\", \"Strawberry Sundae\", \"Coca-Cola Classic (Small)\", \"Coca-Cola Classic (Medium)\", \"Coca-Cola Classic (Large)\", \"Coca-Cola Classic (Child)\", \"Diet Coke (Small)\", \"Diet Coke (Medium)\", \"Diet Coke (Large)\", \"Diet Coke (Child)\", \"Dr Pepper (Small)\", \"Dr Pepper (Medium)\", \"Dr Pepper (Large)\", \"Dr Pepper (Child)\", \"Diet Dr Pepper (Small)\", \"Diet Dr Pepper (Medium)\", \"Diet Dr Pepper (Large)\", \"Diet Dr Pepper (Child)\", \"Sprite (Small)\", \"Sprite (Medium)\", \"Sprite (Large)\", \"Sprite (Child)\", \"1% Low Fat Milk Jug\", \"Fat Free Chocolate Milk Jug\", \"Minute Maid 100% Apple Juice Box\", \"Minute Maid Orange Juice (Small)\", \"Minute Maid Orange Juice (Medium)\", \"Minute Maid Orange Juice (Large)\", \"Dasani Water Bottle\", \"Iced Tea (Small)\", \"Iced Tea (Medium)\", \"Iced Tea (Large)\", \"Iced Tea (Child)\", \"Sweet Tea (Small)\", \"Sweet Tea (Medium)\", \"Sweet Tea (Large)\", \"Sweet Tea (Child)\", \"Coffee (Small)\", \"Coffee (Medium)\", \"Coffee (Large)\", \"Latte (Small)\", \"Latte (Medium)\", \"Latte (Large)\", \"Caramel Latte (Small)\", \"Caramel Latte (Medium)\", \"Caramel Latte (Large)\", \"Hazelnut Latte (Small)\", \"Hazelnut Latte (Medium)\", \"Hazelnut Latte (Large)\", \"French Vanilla Latte (Small)\", \"French Vanilla Latte (Medium)\", \"French Vanilla Latte (Large)\", \"Latte with Sugar Free French Vanilla Syrup (Small)\", \"Latte with Sugar Free French Vanilla Syrup (Medium)\", \"Latte with Sugar Free French Vanilla Syrup (Large)\", \"Nonfat Latte (Small)\", \"Nonfat Latte (Medium)\", \"Nonfat Latte (Large)\", \"Nonfat Caramel Latte (Small)\", \"Nonfat Caramel Latte (Medium)\", \"Nonfat Caramel Latte (Large)\", \"Nonfat Hazelnut Latte (Small)\", \"Nonfat Hazelnut Latte (Medium)\", \"Nonfat Hazelnut Latte (Large)\", \"Nonfat French Vanilla Latte (Small)\", \"Nonfat French Vanilla Latte (Medium)\", \"Nonfat French Vanilla Latte (Large)\", \"Nonfat Latte with Sugar Free French Vanilla Syrup (Small)\", \"Nonfat Latte with Sugar Free French Vanilla Syrup (Medium)\", \"Nonfat Latte with Sugar Free French Vanilla Syrup (Large)\", \"Mocha (Small)\", \"Mocha (Medium)\", \"Mocha (Large)\", \"Mocha with Nonfat Milk (Small)\", \"Mocha with Nonfat Milk (Medium)\", \"Mocha with Nonfat Milk (Large)\", \"Caramel Mocha (Small)\", \"Caramel Mocha (Medium)\", \"Caramel Mocha (Large)\", \"Nonfat Caramel Mocha (Small)\", \"Nonfat Caramel Mocha (Medium)\", \"Nonfat Caramel Mocha (Large)\", \"Hot Chocolate (Small)\", \"Hot Chocolate (Medium)\", \"Hot Chocolate (Large)\", \"Hot Chocolate with Nonfat Milk (Small)\", \"Hot Chocolate with Nonfat Milk (Medium)\", \"Hot Chocolate with Nonfat Milk (Large)\", \"Regular Iced Coffee (Small)\", \"Regular Iced Coffee (Medium)\", \"Regular Iced Coffee (Large)\", \"Caramel Iced Coffee (Small)\", \"Caramel Iced Coffee (Medium)\", \"Caramel Iced Coffee (Large)\", \"Hazelnut Iced Coffee (Small)\", \"Hazelnut Iced Coffee (Medium)\", \"Hazelnut Iced Coffee (Large)\", \"French Vanilla Iced Coffee (Small)\", \"French Vanilla Iced Coffee (Medium)\", \"French Vanilla Iced Coffee (Large)\", \"Iced Coffee with Sugar Free French Vanilla Syrup (Small)\", \"Iced Coffee with Sugar Free French Vanilla Syrup (Medium)\", \"Iced Coffee with Sugar Free French Vanilla Syrup (Large)\", \"Iced Mocha (Small)\", \"Iced Mocha (Medium)\", \"Iced Mocha (Large)\", \"Iced Mocha with Nonfat Milk (Small)\", \"Iced Mocha with Nonfat Milk (Medium)\", \"Iced Mocha with Nonfat Milk (Large)\", \"Iced Caramel Mocha (Small)\", \"Iced Caramel Mocha (Medium)\", \"Iced Caramel Mocha (Large)\", \"Iced Nonfat Caramel Mocha (Small)\", \"Iced Nonfat Caramel Mocha (Medium)\", \"Iced Nonfat Caramel Mocha (Large)\", \"Frapp\\u00e9 Mocha (Small)\", \"Frapp\\u00e9 Mocha (Medium)\", \"Frapp\\u00e9 Mocha (Large)\", \"Frapp\\u00e9 Caramel (Small)\", \"Frapp\\u00e9 Caramel (Medium)\", \"Frapp\\u00e9 Caramel (Large)\", \"Frapp\\u00e9 Chocolate Chip (Small)\", \"Frapp\\u00e9 Chocolate Chip (Medium)\", \"Frapp\\u00e9 Chocolate Chip (Large)\", \"Blueberry Pomegranate Smoothie (Small)\", \"Blueberry Pomegranate Smoothie (Medium)\", \"Blueberry Pomegranate Smoothie (Large)\", \"Strawberry Banana Smoothie (Small)\", \"Strawberry Banana Smoothie (Medium)\", \"Strawberry Banana Smoothie (Large)\", \"Mango Pineapple Smoothie (Small)\", \"Mango Pineapple Smoothie (Medium)\", \"Mango Pineapple Smoothie (Large)\", \"Vanilla Shake (Small)\", \"Vanilla Shake (Medium)\", \"Vanilla Shake (Large)\", \"Strawberry Shake (Small)\", \"Strawberry Shake (Medium)\", \"Strawberry Shake (Large)\", \"Chocolate Shake (Small)\", \"Chocolate Shake (Medium)\", \"Chocolate Shake (Large)\", \"Shamrock Shake (Medium)\", \"Shamrock Shake (Large)\", \"McFlurry with M&M\\u2019s Candies (Small)\", \"McFlurry with M&M\\u2019s Candies (Medium)\", \"McFlurry with M&M\\u2019s Candies (Snack)\", \"McFlurry with Oreo Cookies (Small)\", \"McFlurry with Oreo Cookies (Medium)\", \"McFlurry with Oreo Cookies (Snack)\", \"McFlurry with Reese's Peanut Butter Cups (Medium)\", \"McFlurry with Reese's Peanut Butter Cups (Snack)\"], \"yaxis\": \"y\", \"ybingroup\": \"y\"}],                        {\"coloraxis\": {\"colorbar\": {\"title\": {\"text\": \"count\"}}, \"colorscale\": [[0.0, \"#0d0887\"], [0.1111111111111111, \"#46039f\"], [0.2222222222222222, \"#7201a8\"], [0.3333333333333333, \"#9c179e\"], [0.4444444444444444, \"#bd3786\"], [0.5555555555555556, \"#d8576b\"], [0.6666666666666666, \"#ed7953\"], [0.7777777777777778, \"#fb9f3a\"], [0.8888888888888888, \"#fdca26\"], [1.0, \"#f0f921\"]]}, \"legend\": {\"tracegroupgap\": 0}, \"margin\": {\"t\": 60}, \"template\": {\"data\": {\"bar\": [{\"error_x\": {\"color\": \"#2a3f5f\"}, \"error_y\": {\"color\": \"#2a3f5f\"}, \"marker\": {\"line\": {\"color\": \"#E5ECF6\", \"width\": 0.5}}, \"type\": \"bar\"}], \"barpolar\": [{\"marker\": {\"line\": {\"color\": \"#E5ECF6\", \"width\": 0.5}}, \"type\": \"barpolar\"}], \"carpet\": [{\"aaxis\": {\"endlinecolor\": \"#2a3f5f\", \"gridcolor\": \"white\", \"linecolor\": \"white\", \"minorgridcolor\": \"white\", \"startlinecolor\": \"#2a3f5f\"}, \"baxis\": {\"endlinecolor\": \"#2a3f5f\", \"gridcolor\": \"white\", \"linecolor\": \"white\", \"minorgridcolor\": \"white\", \"startlinecolor\": \"#2a3f5f\"}, \"type\": \"carpet\"}], \"choropleth\": [{\"colorbar\": {\"outlinewidth\": 0, \"ticks\": \"\"}, \"type\": \"choropleth\"}], \"contour\": [{\"colorbar\": {\"outlinewidth\": 0, \"ticks\": \"\"}, \"colorscale\": [[0.0, \"#0d0887\"], [0.1111111111111111, \"#46039f\"], [0.2222222222222222, \"#7201a8\"], [0.3333333333333333, \"#9c179e\"], [0.4444444444444444, \"#bd3786\"], [0.5555555555555556, \"#d8576b\"], [0.6666666666666666, \"#ed7953\"], [0.7777777777777778, \"#fb9f3a\"], [0.8888888888888888, \"#fdca26\"], [1.0, \"#f0f921\"]], \"type\": \"contour\"}], \"contourcarpet\": [{\"colorbar\": {\"outlinewidth\": 0, \"ticks\": \"\"}, \"type\": \"contourcarpet\"}], \"heatmap\": [{\"colorbar\": {\"outlinewidth\": 0, \"ticks\": \"\"}, \"colorscale\": [[0.0, \"#0d0887\"], [0.1111111111111111, \"#46039f\"], [0.2222222222222222, \"#7201a8\"], [0.3333333333333333, \"#9c179e\"], [0.4444444444444444, \"#bd3786\"], [0.5555555555555556, \"#d8576b\"], [0.6666666666666666, \"#ed7953\"], [0.7777777777777778, \"#fb9f3a\"], [0.8888888888888888, \"#fdca26\"], [1.0, \"#f0f921\"]], \"type\": \"heatmap\"}], \"heatmapgl\": [{\"colorbar\": {\"outlinewidth\": 0, \"ticks\": \"\"}, \"colorscale\": [[0.0, \"#0d0887\"], [0.1111111111111111, \"#46039f\"], [0.2222222222222222, \"#7201a8\"], [0.3333333333333333, \"#9c179e\"], [0.4444444444444444, \"#bd3786\"], [0.5555555555555556, \"#d8576b\"], [0.6666666666666666, \"#ed7953\"], [0.7777777777777778, \"#fb9f3a\"], [0.8888888888888888, \"#fdca26\"], [1.0, \"#f0f921\"]], \"type\": \"heatmapgl\"}], \"histogram\": [{\"marker\": {\"colorbar\": {\"outlinewidth\": 0, \"ticks\": \"\"}}, \"type\": \"histogram\"}], \"histogram2d\": [{\"colorbar\": {\"outlinewidth\": 0, \"ticks\": \"\"}, \"colorscale\": [[0.0, \"#0d0887\"], [0.1111111111111111, \"#46039f\"], [0.2222222222222222, \"#7201a8\"], [0.3333333333333333, \"#9c179e\"], [0.4444444444444444, \"#bd3786\"], [0.5555555555555556, \"#d8576b\"], [0.6666666666666666, \"#ed7953\"], [0.7777777777777778, \"#fb9f3a\"], [0.8888888888888888, \"#fdca26\"], [1.0, \"#f0f921\"]], \"type\": \"histogram2d\"}], \"histogram2dcontour\": [{\"colorbar\": {\"outlinewidth\": 0, \"ticks\": \"\"}, \"colorscale\": [[0.0, \"#0d0887\"], [0.1111111111111111, \"#46039f\"], [0.2222222222222222, \"#7201a8\"], [0.3333333333333333, \"#9c179e\"], [0.4444444444444444, \"#bd3786\"], [0.5555555555555556, \"#d8576b\"], [0.6666666666666666, \"#ed7953\"], [0.7777777777777778, \"#fb9f3a\"], [0.8888888888888888, \"#fdca26\"], [1.0, \"#f0f921\"]], \"type\": \"histogram2dcontour\"}], \"mesh3d\": [{\"colorbar\": {\"outlinewidth\": 0, \"ticks\": \"\"}, \"type\": \"mesh3d\"}], \"parcoords\": [{\"line\": {\"colorbar\": {\"outlinewidth\": 0, \"ticks\": \"\"}}, \"type\": \"parcoords\"}], \"pie\": [{\"automargin\": true, \"type\": \"pie\"}], \"scatter\": [{\"marker\": {\"colorbar\": {\"outlinewidth\": 0, \"ticks\": \"\"}}, \"type\": \"scatter\"}], \"scatter3d\": [{\"line\": {\"colorbar\": {\"outlinewidth\": 0, \"ticks\": \"\"}}, \"marker\": {\"colorbar\": {\"outlinewidth\": 0, \"ticks\": \"\"}}, \"type\": \"scatter3d\"}], \"scattercarpet\": [{\"marker\": {\"colorbar\": {\"outlinewidth\": 0, \"ticks\": \"\"}}, \"type\": \"scattercarpet\"}], \"scattergeo\": [{\"marker\": {\"colorbar\": {\"outlinewidth\": 0, \"ticks\": \"\"}}, \"type\": \"scattergeo\"}], \"scattergl\": [{\"marker\": {\"colorbar\": {\"outlinewidth\": 0, \"ticks\": \"\"}}, \"type\": \"scattergl\"}], \"scattermapbox\": [{\"marker\": {\"colorbar\": {\"outlinewidth\": 0, \"ticks\": \"\"}}, \"type\": \"scattermapbox\"}], \"scatterpolar\": [{\"marker\": {\"colorbar\": {\"outlinewidth\": 0, \"ticks\": \"\"}}, \"type\": \"scatterpolar\"}], \"scatterpolargl\": [{\"marker\": {\"colorbar\": {\"outlinewidth\": 0, \"ticks\": \"\"}}, \"type\": \"scatterpolargl\"}], \"scatterternary\": [{\"marker\": {\"colorbar\": {\"outlinewidth\": 0, \"ticks\": \"\"}}, \"type\": \"scatterternary\"}], \"surface\": [{\"colorbar\": {\"outlinewidth\": 0, \"ticks\": \"\"}, \"colorscale\": [[0.0, \"#0d0887\"], [0.1111111111111111, \"#46039f\"], [0.2222222222222222, \"#7201a8\"], [0.3333333333333333, \"#9c179e\"], [0.4444444444444444, \"#bd3786\"], [0.5555555555555556, \"#d8576b\"], [0.6666666666666666, \"#ed7953\"], [0.7777777777777778, \"#fb9f3a\"], [0.8888888888888888, \"#fdca26\"], [1.0, \"#f0f921\"]], \"type\": \"surface\"}], \"table\": [{\"cells\": {\"fill\": {\"color\": \"#EBF0F8\"}, \"line\": {\"color\": \"white\"}}, \"header\": {\"fill\": {\"color\": \"#C8D4E3\"}, \"line\": {\"color\": \"white\"}}, \"type\": \"table\"}]}, \"layout\": {\"annotationdefaults\": {\"arrowcolor\": \"#2a3f5f\", \"arrowhead\": 0, \"arrowwidth\": 1}, \"autotypenumbers\": \"strict\", \"coloraxis\": {\"colorbar\": {\"outlinewidth\": 0, \"ticks\": \"\"}}, \"colorscale\": {\"diverging\": [[0, \"#8e0152\"], [0.1, \"#c51b7d\"], [0.2, \"#de77ae\"], [0.3, \"#f1b6da\"], [0.4, \"#fde0ef\"], [0.5, \"#f7f7f7\"], [0.6, \"#e6f5d0\"], [0.7, \"#b8e186\"], [0.8, \"#7fbc41\"], [0.9, \"#4d9221\"], [1, \"#276419\"]], \"sequential\": [[0.0, \"#0d0887\"], [0.1111111111111111, \"#46039f\"], [0.2222222222222222, \"#7201a8\"], [0.3333333333333333, \"#9c179e\"], [0.4444444444444444, \"#bd3786\"], [0.5555555555555556, \"#d8576b\"], [0.6666666666666666, \"#ed7953\"], [0.7777777777777778, \"#fb9f3a\"], [0.8888888888888888, \"#fdca26\"], [1.0, \"#f0f921\"]], \"sequentialminus\": [[0.0, \"#0d0887\"], [0.1111111111111111, \"#46039f\"], [0.2222222222222222, \"#7201a8\"], [0.3333333333333333, \"#9c179e\"], [0.4444444444444444, \"#bd3786\"], [0.5555555555555556, \"#d8576b\"], [0.6666666666666666, \"#ed7953\"], [0.7777777777777778, \"#fb9f3a\"], [0.8888888888888888, \"#fdca26\"], [1.0, \"#f0f921\"]]}, \"colorway\": [\"#636efa\", \"#EF553B\", \"#00cc96\", \"#ab63fa\", \"#FFA15A\", \"#19d3f3\", \"#FF6692\", \"#B6E880\", \"#FF97FF\", \"#FECB52\"], \"font\": {\"color\": \"#2a3f5f\"}, \"geo\": {\"bgcolor\": \"white\", \"lakecolor\": \"white\", \"landcolor\": \"#E5ECF6\", \"showlakes\": true, \"showland\": true, \"subunitcolor\": \"white\"}, \"hoverlabel\": {\"align\": \"left\"}, \"hovermode\": \"closest\", \"mapbox\": {\"style\": \"light\"}, \"paper_bgcolor\": \"white\", \"plot_bgcolor\": \"#E5ECF6\", \"polar\": {\"angularaxis\": {\"gridcolor\": \"white\", \"linecolor\": \"white\", \"ticks\": \"\"}, \"bgcolor\": \"#E5ECF6\", \"radialaxis\": {\"gridcolor\": \"white\", \"linecolor\": \"white\", \"ticks\": \"\"}}, \"scene\": {\"xaxis\": {\"backgroundcolor\": \"#E5ECF6\", \"gridcolor\": \"white\", \"gridwidth\": 2, \"linecolor\": \"white\", \"showbackground\": true, \"ticks\": \"\", \"zerolinecolor\": \"white\"}, \"yaxis\": {\"backgroundcolor\": \"#E5ECF6\", \"gridcolor\": \"white\", \"gridwidth\": 2, \"linecolor\": \"white\", \"showbackground\": true, \"ticks\": \"\", \"zerolinecolor\": \"white\"}, \"zaxis\": {\"backgroundcolor\": \"#E5ECF6\", \"gridcolor\": \"white\", \"gridwidth\": 2, \"linecolor\": \"white\", \"showbackground\": true, \"ticks\": \"\", \"zerolinecolor\": \"white\"}}, \"shapedefaults\": {\"line\": {\"color\": \"#2a3f5f\"}}, \"ternary\": {\"aaxis\": {\"gridcolor\": \"white\", \"linecolor\": \"white\", \"ticks\": \"\"}, \"baxis\": {\"gridcolor\": \"white\", \"linecolor\": \"white\", \"ticks\": \"\"}, \"bgcolor\": \"#E5ECF6\", \"caxis\": {\"gridcolor\": \"white\", \"linecolor\": \"white\", \"ticks\": \"\"}}, \"title\": {\"x\": 0.05}, \"xaxis\": {\"automargin\": true, \"gridcolor\": \"white\", \"linecolor\": \"white\", \"ticks\": \"\", \"title\": {\"standoff\": 15}, \"zerolinecolor\": \"white\", \"zerolinewidth\": 2}, \"yaxis\": {\"automargin\": true, \"gridcolor\": \"white\", \"linecolor\": \"white\", \"ticks\": \"\", \"title\": {\"standoff\": 15}, \"zerolinecolor\": \"white\", \"zerolinewidth\": 2}}}, \"width\": 900, \"xaxis\": {\"anchor\": \"y\", \"domain\": [0.0, 1.0], \"title\": {\"text\": \"Category\"}}, \"yaxis\": {\"anchor\": \"x\", \"domain\": [0.0, 1.0], \"title\": {\"text\": \"Item\"}}},                        {\"responsive\": true}                    ).then(function(){\n",
       "                            \n",
       "var gd = document.getElementById('e5f7a998-53cb-4ebd-a64c-278d678bc7bc');\n",
       "var x = new MutationObserver(function (mutations, observer) {{\n",
       "        var display = window.getComputedStyle(gd).display;\n",
       "        if (!display || display === 'none') {{\n",
       "            console.log([gd, 'removed!']);\n",
       "            Plotly.purge(gd);\n",
       "            observer.disconnect();\n",
       "        }}\n",
       "}});\n",
       "\n",
       "// Listen for the removal of the full notebook cells\n",
       "var notebookContainer = gd.closest('#notebook-container');\n",
       "if (notebookContainer) {{\n",
       "    x.observe(notebookContainer, {childList: true});\n",
       "}}\n",
       "\n",
       "// Listen for the clearing of the current output cell\n",
       "var outputEl = gd.closest('.output');\n",
       "if (outputEl) {{\n",
       "    x.observe(outputEl, {childList: true});\n",
       "}}\n",
       "\n",
       "                        })                };                });            </script>        </div>"
      ]
     },
     "metadata": {},
     "output_type": "display_data"
    }
   ],
   "source": [
    "px.density_heatmap(x='Category',y='Item',data_frame=df,width=900)"
   ]
  },
  {
   "cell_type": "markdown",
   "id": "extensive-shopping",
   "metadata": {
    "papermill": {
     "duration": 0.033811,
     "end_time": "2021-05-10T15:51:29.031083",
     "exception": false,
     "start_time": "2021-05-10T15:51:28.997272",
     "status": "completed"
    },
    "tags": []
   },
   "source": [
    "<font size=5><b>Analysis of Nutrients</b></font>"
   ]
  },
  {
   "cell_type": "markdown",
   "id": "bronze-dance",
   "metadata": {
    "papermill": {
     "duration": 0.033216,
     "end_time": "2021-05-10T15:51:29.098370",
     "exception": false,
     "start_time": "2021-05-10T15:51:29.065154",
     "status": "completed"
    },
    "tags": []
   },
   "source": [
    "<font size=4><b>Average Calories distribution for each category</b></font>\n",
    "<br>\n",
    "<font size=3>Below we observe hightest amount of calories for Chicken & fish followed by Breakfast and Smoothies</font>"
   ]
  },
  {
   "cell_type": "code",
   "execution_count": 8,
   "id": "interested-canvas",
   "metadata": {
    "execution": {
     "iopub.execute_input": "2021-05-10T15:51:29.173759Z",
     "iopub.status.busy": "2021-05-10T15:51:29.172959Z",
     "iopub.status.idle": "2021-05-10T15:51:29.190549Z",
     "shell.execute_reply": "2021-05-10T15:51:29.189946Z"
    },
    "papermill": {
     "duration": 0.059843,
     "end_time": "2021-05-10T15:51:29.190695",
     "exception": false,
     "start_time": "2021-05-10T15:51:29.130852",
     "status": "completed"
    },
    "tags": []
   },
   "outputs": [
    {
     "data": {
      "text/html": [
       "<div>                            <div id=\"059b6154-0b31-404d-9db5-2b0d3e2b5b1a\" class=\"plotly-graph-div\" style=\"height:500px; width:700px;\"></div>            <script type=\"text/javascript\">                require([\"plotly\"], function(Plotly) {                    window.PLOTLYENV=window.PLOTLYENV || {};                                    if (document.getElementById(\"059b6154-0b31-404d-9db5-2b0d3e2b5b1a\")) {                    Plotly.newPlot(                        \"059b6154-0b31-404d-9db5-2b0d3e2b5b1a\",                        [{\"marker\": {\"color\": [\"gray\", \"gray\", \"gray\", \"#AF0038\", \"gray\", \"gray\", \"gray\", \"gray\", \"gray\"]}, \"type\": \"bar\", \"x\": [\"Beef & Pork\", \"Beverages\", \"Breakfast\", \"Chicken & Fish\", \"Coffee & Tea\", \"Desserts\", \"Salads\", \"Smoothies & Shakes\", \"Snacks & Sides\"], \"y\": [494.0, 113.70370370370371, 526.6666666666666, 552.9629629629629, 283.89473684210526, 222.14285714285714, 270.0, 531.4285714285714, 245.76923076923077]}],                        {\"height\": 500, \"template\": {\"data\": {\"bar\": [{\"error_x\": {\"color\": \"#2a3f5f\"}, \"error_y\": {\"color\": \"#2a3f5f\"}, \"marker\": {\"line\": {\"color\": \"#E5ECF6\", \"width\": 0.5}}, \"type\": \"bar\"}], \"barpolar\": [{\"marker\": {\"line\": {\"color\": \"#E5ECF6\", \"width\": 0.5}}, \"type\": \"barpolar\"}], \"carpet\": [{\"aaxis\": {\"endlinecolor\": \"#2a3f5f\", \"gridcolor\": \"white\", \"linecolor\": \"white\", \"minorgridcolor\": \"white\", \"startlinecolor\": \"#2a3f5f\"}, \"baxis\": {\"endlinecolor\": \"#2a3f5f\", \"gridcolor\": \"white\", \"linecolor\": \"white\", \"minorgridcolor\": \"white\", \"startlinecolor\": \"#2a3f5f\"}, \"type\": \"carpet\"}], \"choropleth\": [{\"colorbar\": {\"outlinewidth\": 0, \"ticks\": \"\"}, \"type\": \"choropleth\"}], \"contour\": [{\"colorbar\": {\"outlinewidth\": 0, \"ticks\": \"\"}, \"colorscale\": [[0.0, \"#0d0887\"], [0.1111111111111111, \"#46039f\"], [0.2222222222222222, \"#7201a8\"], [0.3333333333333333, \"#9c179e\"], [0.4444444444444444, \"#bd3786\"], [0.5555555555555556, \"#d8576b\"], [0.6666666666666666, \"#ed7953\"], [0.7777777777777778, \"#fb9f3a\"], [0.8888888888888888, \"#fdca26\"], [1.0, \"#f0f921\"]], \"type\": \"contour\"}], \"contourcarpet\": [{\"colorbar\": {\"outlinewidth\": 0, \"ticks\": \"\"}, \"type\": \"contourcarpet\"}], \"heatmap\": [{\"colorbar\": {\"outlinewidth\": 0, \"ticks\": \"\"}, \"colorscale\": [[0.0, \"#0d0887\"], [0.1111111111111111, \"#46039f\"], [0.2222222222222222, \"#7201a8\"], [0.3333333333333333, \"#9c179e\"], [0.4444444444444444, \"#bd3786\"], [0.5555555555555556, \"#d8576b\"], [0.6666666666666666, \"#ed7953\"], [0.7777777777777778, \"#fb9f3a\"], [0.8888888888888888, \"#fdca26\"], [1.0, \"#f0f921\"]], \"type\": \"heatmap\"}], \"heatmapgl\": [{\"colorbar\": {\"outlinewidth\": 0, \"ticks\": \"\"}, \"colorscale\": [[0.0, \"#0d0887\"], [0.1111111111111111, \"#46039f\"], [0.2222222222222222, \"#7201a8\"], [0.3333333333333333, \"#9c179e\"], [0.4444444444444444, \"#bd3786\"], [0.5555555555555556, \"#d8576b\"], [0.6666666666666666, \"#ed7953\"], [0.7777777777777778, \"#fb9f3a\"], [0.8888888888888888, \"#fdca26\"], [1.0, \"#f0f921\"]], \"type\": \"heatmapgl\"}], \"histogram\": [{\"marker\": {\"colorbar\": {\"outlinewidth\": 0, \"ticks\": \"\"}}, \"type\": \"histogram\"}], \"histogram2d\": [{\"colorbar\": {\"outlinewidth\": 0, \"ticks\": \"\"}, \"colorscale\": [[0.0, \"#0d0887\"], [0.1111111111111111, \"#46039f\"], [0.2222222222222222, \"#7201a8\"], [0.3333333333333333, \"#9c179e\"], [0.4444444444444444, \"#bd3786\"], [0.5555555555555556, \"#d8576b\"], [0.6666666666666666, \"#ed7953\"], [0.7777777777777778, \"#fb9f3a\"], [0.8888888888888888, \"#fdca26\"], [1.0, \"#f0f921\"]], \"type\": \"histogram2d\"}], \"histogram2dcontour\": [{\"colorbar\": {\"outlinewidth\": 0, \"ticks\": \"\"}, \"colorscale\": [[0.0, \"#0d0887\"], [0.1111111111111111, \"#46039f\"], [0.2222222222222222, \"#7201a8\"], [0.3333333333333333, \"#9c179e\"], [0.4444444444444444, \"#bd3786\"], [0.5555555555555556, \"#d8576b\"], [0.6666666666666666, \"#ed7953\"], [0.7777777777777778, \"#fb9f3a\"], [0.8888888888888888, \"#fdca26\"], [1.0, \"#f0f921\"]], \"type\": \"histogram2dcontour\"}], \"mesh3d\": [{\"colorbar\": {\"outlinewidth\": 0, \"ticks\": \"\"}, \"type\": \"mesh3d\"}], \"parcoords\": [{\"line\": {\"colorbar\": {\"outlinewidth\": 0, \"ticks\": \"\"}}, \"type\": \"parcoords\"}], \"pie\": [{\"automargin\": true, \"type\": \"pie\"}], \"scatter\": [{\"marker\": {\"colorbar\": {\"outlinewidth\": 0, \"ticks\": \"\"}}, \"type\": \"scatter\"}], \"scatter3d\": [{\"line\": {\"colorbar\": {\"outlinewidth\": 0, \"ticks\": \"\"}}, \"marker\": {\"colorbar\": {\"outlinewidth\": 0, \"ticks\": \"\"}}, \"type\": \"scatter3d\"}], \"scattercarpet\": [{\"marker\": {\"colorbar\": {\"outlinewidth\": 0, \"ticks\": \"\"}}, \"type\": \"scattercarpet\"}], \"scattergeo\": [{\"marker\": {\"colorbar\": {\"outlinewidth\": 0, \"ticks\": \"\"}}, \"type\": \"scattergeo\"}], \"scattergl\": [{\"marker\": {\"colorbar\": {\"outlinewidth\": 0, \"ticks\": \"\"}}, \"type\": \"scattergl\"}], \"scattermapbox\": [{\"marker\": {\"colorbar\": {\"outlinewidth\": 0, \"ticks\": \"\"}}, \"type\": \"scattermapbox\"}], \"scatterpolar\": [{\"marker\": {\"colorbar\": {\"outlinewidth\": 0, \"ticks\": \"\"}}, \"type\": \"scatterpolar\"}], \"scatterpolargl\": [{\"marker\": {\"colorbar\": {\"outlinewidth\": 0, \"ticks\": \"\"}}, \"type\": \"scatterpolargl\"}], \"scatterternary\": [{\"marker\": {\"colorbar\": {\"outlinewidth\": 0, \"ticks\": \"\"}}, \"type\": \"scatterternary\"}], \"surface\": [{\"colorbar\": {\"outlinewidth\": 0, \"ticks\": \"\"}, \"colorscale\": [[0.0, \"#0d0887\"], [0.1111111111111111, \"#46039f\"], [0.2222222222222222, \"#7201a8\"], [0.3333333333333333, \"#9c179e\"], [0.4444444444444444, \"#bd3786\"], [0.5555555555555556, \"#d8576b\"], [0.6666666666666666, \"#ed7953\"], [0.7777777777777778, \"#fb9f3a\"], [0.8888888888888888, \"#fdca26\"], [1.0, \"#f0f921\"]], \"type\": \"surface\"}], \"table\": [{\"cells\": {\"fill\": {\"color\": \"#EBF0F8\"}, \"line\": {\"color\": \"white\"}}, \"header\": {\"fill\": {\"color\": \"#C8D4E3\"}, \"line\": {\"color\": \"white\"}}, \"type\": \"table\"}]}, \"layout\": {\"annotationdefaults\": {\"arrowcolor\": \"#2a3f5f\", \"arrowhead\": 0, \"arrowwidth\": 1}, \"autotypenumbers\": \"strict\", \"coloraxis\": {\"colorbar\": {\"outlinewidth\": 0, \"ticks\": \"\"}}, \"colorscale\": {\"diverging\": [[0, \"#8e0152\"], [0.1, \"#c51b7d\"], [0.2, \"#de77ae\"], [0.3, \"#f1b6da\"], [0.4, \"#fde0ef\"], [0.5, \"#f7f7f7\"], [0.6, \"#e6f5d0\"], [0.7, \"#b8e186\"], [0.8, \"#7fbc41\"], [0.9, \"#4d9221\"], [1, \"#276419\"]], \"sequential\": [[0.0, \"#0d0887\"], [0.1111111111111111, \"#46039f\"], [0.2222222222222222, \"#7201a8\"], [0.3333333333333333, \"#9c179e\"], [0.4444444444444444, \"#bd3786\"], [0.5555555555555556, \"#d8576b\"], [0.6666666666666666, \"#ed7953\"], [0.7777777777777778, \"#fb9f3a\"], [0.8888888888888888, \"#fdca26\"], [1.0, \"#f0f921\"]], \"sequentialminus\": [[0.0, \"#0d0887\"], [0.1111111111111111, \"#46039f\"], [0.2222222222222222, \"#7201a8\"], [0.3333333333333333, \"#9c179e\"], [0.4444444444444444, \"#bd3786\"], [0.5555555555555556, \"#d8576b\"], [0.6666666666666666, \"#ed7953\"], [0.7777777777777778, \"#fb9f3a\"], [0.8888888888888888, \"#fdca26\"], [1.0, \"#f0f921\"]]}, \"colorway\": [\"#636efa\", \"#EF553B\", \"#00cc96\", \"#ab63fa\", \"#FFA15A\", \"#19d3f3\", \"#FF6692\", \"#B6E880\", \"#FF97FF\", \"#FECB52\"], \"font\": {\"color\": \"#2a3f5f\"}, \"geo\": {\"bgcolor\": \"white\", \"lakecolor\": \"white\", \"landcolor\": \"#E5ECF6\", \"showlakes\": true, \"showland\": true, \"subunitcolor\": \"white\"}, \"hoverlabel\": {\"align\": \"left\"}, \"hovermode\": \"closest\", \"mapbox\": {\"style\": \"light\"}, \"paper_bgcolor\": \"white\", \"plot_bgcolor\": \"#E5ECF6\", \"polar\": {\"angularaxis\": {\"gridcolor\": \"white\", \"linecolor\": \"white\", \"ticks\": \"\"}, \"bgcolor\": \"#E5ECF6\", \"radialaxis\": {\"gridcolor\": \"white\", \"linecolor\": \"white\", \"ticks\": \"\"}}, \"scene\": {\"xaxis\": {\"backgroundcolor\": \"#E5ECF6\", \"gridcolor\": \"white\", \"gridwidth\": 2, \"linecolor\": \"white\", \"showbackground\": true, \"ticks\": \"\", \"zerolinecolor\": \"white\"}, \"yaxis\": {\"backgroundcolor\": \"#E5ECF6\", \"gridcolor\": \"white\", \"gridwidth\": 2, \"linecolor\": \"white\", \"showbackground\": true, \"ticks\": \"\", \"zerolinecolor\": \"white\"}, \"zaxis\": {\"backgroundcolor\": \"#E5ECF6\", \"gridcolor\": \"white\", \"gridwidth\": 2, \"linecolor\": \"white\", \"showbackground\": true, \"ticks\": \"\", \"zerolinecolor\": \"white\"}}, \"shapedefaults\": {\"line\": {\"color\": \"#2a3f5f\"}}, \"ternary\": {\"aaxis\": {\"gridcolor\": \"white\", \"linecolor\": \"white\", \"ticks\": \"\"}, \"baxis\": {\"gridcolor\": \"white\", \"linecolor\": \"white\", \"ticks\": \"\"}, \"bgcolor\": \"#E5ECF6\", \"caxis\": {\"gridcolor\": \"white\", \"linecolor\": \"white\", \"ticks\": \"\"}}, \"title\": {\"x\": 0.05}, \"xaxis\": {\"automargin\": true, \"gridcolor\": \"white\", \"linecolor\": \"white\", \"ticks\": \"\", \"title\": {\"standoff\": 15}, \"zerolinecolor\": \"white\", \"zerolinewidth\": 2}, \"yaxis\": {\"automargin\": true, \"gridcolor\": \"white\", \"linecolor\": \"white\", \"ticks\": \"\", \"title\": {\"standoff\": 15}, \"zerolinecolor\": \"white\", \"zerolinewidth\": 2}}}, \"width\": 700, \"yaxis\": {\"title\": {\"text\": \"Avg Calories\"}}},                        {\"responsive\": true}                    ).then(function(){\n",
       "                            \n",
       "var gd = document.getElementById('059b6154-0b31-404d-9db5-2b0d3e2b5b1a');\n",
       "var x = new MutationObserver(function (mutations, observer) {{\n",
       "        var display = window.getComputedStyle(gd).display;\n",
       "        if (!display || display === 'none') {{\n",
       "            console.log([gd, 'removed!']);\n",
       "            Plotly.purge(gd);\n",
       "            observer.disconnect();\n",
       "        }}\n",
       "}});\n",
       "\n",
       "// Listen for the removal of the full notebook cells\n",
       "var notebookContainer = gd.closest('#notebook-container');\n",
       "if (notebookContainer) {{\n",
       "    x.observe(notebookContainer, {childList: true});\n",
       "}}\n",
       "\n",
       "// Listen for the clearing of the current output cell\n",
       "var outputEl = gd.closest('.output');\n",
       "if (outputEl) {{\n",
       "    x.observe(outputEl, {childList: true});\n",
       "}}\n",
       "\n",
       "                        })                };                });            </script>        </div>"
      ]
     },
     "metadata": {},
     "output_type": "display_data"
    }
   ],
   "source": [
    "calories=pd.DataFrame(df.groupby('Category')['Calories'].mean())\n",
    "        \n",
    "colors=['gray']*9\n",
    "colors[3]='#AF0038'\n",
    "fig = go.Figure(data=[go.Bar(\n",
    "    x=calories.index,\n",
    "    y=calories['Calories'],\n",
    "    marker_color=colors\n",
    ")])\n",
    "fig.update_layout(width=700,height=500)\n",
    "fig.update_yaxes(title='Avg Calories')\n",
    "fig.show()"
   ]
  },
  {
   "cell_type": "markdown",
   "id": "disabled-disposal",
   "metadata": {
    "papermill": {
     "duration": 0.033134,
     "end_time": "2021-05-10T15:51:29.259685",
     "exception": false,
     "start_time": "2021-05-10T15:51:29.226551",
     "status": "completed"
    },
    "tags": []
   },
   "source": [
    "<font size=5><b>Total Fat</b></font>\n",
    "<br>\n",
    "<font size=3>Below is the avg Total Fat distribution for each category.We have breakfast ,Chicken & Fish and Beef & Pork at the forefront when it comes to the amount of Fat intake by us.</font>"
   ]
  },
  {
   "cell_type": "code",
   "execution_count": 9,
   "id": "crude-guatemala",
   "metadata": {
    "execution": {
     "iopub.execute_input": "2021-05-10T15:51:29.334111Z",
     "iopub.status.busy": "2021-05-10T15:51:29.333420Z",
     "iopub.status.idle": "2021-05-10T15:51:29.348943Z",
     "shell.execute_reply": "2021-05-10T15:51:29.349522Z"
    },
    "papermill": {
     "duration": 0.056452,
     "end_time": "2021-05-10T15:51:29.349711",
     "exception": false,
     "start_time": "2021-05-10T15:51:29.293259",
     "status": "completed"
    },
    "tags": []
   },
   "outputs": [
    {
     "data": {
      "text/html": [
       "<div>                            <div id=\"cabf83f3-b6d9-4bb1-ba9f-348bbf76e1c4\" class=\"plotly-graph-div\" style=\"height:500px; width:700px;\"></div>            <script type=\"text/javascript\">                require([\"plotly\"], function(Plotly) {                    window.PLOTLYENV=window.PLOTLYENV || {};                                    if (document.getElementById(\"cabf83f3-b6d9-4bb1-ba9f-348bbf76e1c4\")) {                    Plotly.newPlot(                        \"cabf83f3-b6d9-4bb1-ba9f-348bbf76e1c4\",                        [{\"marker\": {\"color\": [\"gray\", \"gray\", \"#C4451C\", \"gray\", \"gray\", \"gray\", \"gray\", \"gray\", \"gray\"]}, \"type\": \"bar\", \"x\": [\"Beef & Pork\", \"Beverages\", \"Breakfast\", \"Chicken & Fish\", \"Coffee & Tea\", \"Desserts\", \"Salads\", \"Smoothies & Shakes\", \"Snacks & Sides\"], \"y\": [24.866666666666667, 0.09259259259259259, 27.69047619047619, 26.962962962962962, 8.021052631578947, 7.357142857142857, 11.75, 14.125, 10.538461538461538]}],                        {\"height\": 500, \"template\": {\"data\": {\"bar\": [{\"error_x\": {\"color\": \"#2a3f5f\"}, \"error_y\": {\"color\": \"#2a3f5f\"}, \"marker\": {\"line\": {\"color\": \"#E5ECF6\", \"width\": 0.5}}, \"type\": \"bar\"}], \"barpolar\": [{\"marker\": {\"line\": {\"color\": \"#E5ECF6\", \"width\": 0.5}}, \"type\": \"barpolar\"}], \"carpet\": [{\"aaxis\": {\"endlinecolor\": \"#2a3f5f\", \"gridcolor\": \"white\", \"linecolor\": \"white\", \"minorgridcolor\": \"white\", \"startlinecolor\": \"#2a3f5f\"}, \"baxis\": {\"endlinecolor\": \"#2a3f5f\", \"gridcolor\": \"white\", \"linecolor\": \"white\", \"minorgridcolor\": \"white\", \"startlinecolor\": \"#2a3f5f\"}, \"type\": \"carpet\"}], \"choropleth\": [{\"colorbar\": {\"outlinewidth\": 0, \"ticks\": \"\"}, \"type\": \"choropleth\"}], \"contour\": [{\"colorbar\": {\"outlinewidth\": 0, \"ticks\": \"\"}, \"colorscale\": [[0.0, \"#0d0887\"], [0.1111111111111111, \"#46039f\"], [0.2222222222222222, \"#7201a8\"], [0.3333333333333333, \"#9c179e\"], [0.4444444444444444, \"#bd3786\"], [0.5555555555555556, \"#d8576b\"], [0.6666666666666666, \"#ed7953\"], [0.7777777777777778, \"#fb9f3a\"], [0.8888888888888888, \"#fdca26\"], [1.0, \"#f0f921\"]], \"type\": \"contour\"}], \"contourcarpet\": [{\"colorbar\": {\"outlinewidth\": 0, \"ticks\": \"\"}, \"type\": \"contourcarpet\"}], \"heatmap\": [{\"colorbar\": {\"outlinewidth\": 0, \"ticks\": \"\"}, \"colorscale\": [[0.0, \"#0d0887\"], [0.1111111111111111, \"#46039f\"], [0.2222222222222222, \"#7201a8\"], [0.3333333333333333, \"#9c179e\"], [0.4444444444444444, \"#bd3786\"], [0.5555555555555556, \"#d8576b\"], [0.6666666666666666, \"#ed7953\"], [0.7777777777777778, \"#fb9f3a\"], [0.8888888888888888, \"#fdca26\"], [1.0, \"#f0f921\"]], \"type\": \"heatmap\"}], \"heatmapgl\": [{\"colorbar\": {\"outlinewidth\": 0, \"ticks\": \"\"}, \"colorscale\": [[0.0, \"#0d0887\"], [0.1111111111111111, \"#46039f\"], [0.2222222222222222, \"#7201a8\"], [0.3333333333333333, \"#9c179e\"], [0.4444444444444444, \"#bd3786\"], [0.5555555555555556, \"#d8576b\"], [0.6666666666666666, \"#ed7953\"], [0.7777777777777778, \"#fb9f3a\"], [0.8888888888888888, \"#fdca26\"], [1.0, \"#f0f921\"]], \"type\": \"heatmapgl\"}], \"histogram\": [{\"marker\": {\"colorbar\": {\"outlinewidth\": 0, \"ticks\": \"\"}}, \"type\": \"histogram\"}], \"histogram2d\": [{\"colorbar\": {\"outlinewidth\": 0, \"ticks\": \"\"}, \"colorscale\": [[0.0, \"#0d0887\"], [0.1111111111111111, \"#46039f\"], [0.2222222222222222, \"#7201a8\"], [0.3333333333333333, \"#9c179e\"], [0.4444444444444444, \"#bd3786\"], [0.5555555555555556, \"#d8576b\"], [0.6666666666666666, \"#ed7953\"], [0.7777777777777778, \"#fb9f3a\"], [0.8888888888888888, \"#fdca26\"], [1.0, \"#f0f921\"]], \"type\": \"histogram2d\"}], \"histogram2dcontour\": [{\"colorbar\": {\"outlinewidth\": 0, \"ticks\": \"\"}, \"colorscale\": [[0.0, \"#0d0887\"], [0.1111111111111111, \"#46039f\"], [0.2222222222222222, \"#7201a8\"], [0.3333333333333333, \"#9c179e\"], [0.4444444444444444, \"#bd3786\"], [0.5555555555555556, \"#d8576b\"], [0.6666666666666666, \"#ed7953\"], [0.7777777777777778, \"#fb9f3a\"], [0.8888888888888888, \"#fdca26\"], [1.0, \"#f0f921\"]], \"type\": \"histogram2dcontour\"}], \"mesh3d\": [{\"colorbar\": {\"outlinewidth\": 0, \"ticks\": \"\"}, \"type\": \"mesh3d\"}], \"parcoords\": [{\"line\": {\"colorbar\": {\"outlinewidth\": 0, \"ticks\": \"\"}}, \"type\": \"parcoords\"}], \"pie\": [{\"automargin\": true, \"type\": \"pie\"}], \"scatter\": [{\"marker\": {\"colorbar\": {\"outlinewidth\": 0, \"ticks\": \"\"}}, \"type\": \"scatter\"}], \"scatter3d\": [{\"line\": {\"colorbar\": {\"outlinewidth\": 0, \"ticks\": \"\"}}, \"marker\": {\"colorbar\": {\"outlinewidth\": 0, \"ticks\": \"\"}}, \"type\": \"scatter3d\"}], \"scattercarpet\": [{\"marker\": {\"colorbar\": {\"outlinewidth\": 0, \"ticks\": \"\"}}, \"type\": \"scattercarpet\"}], \"scattergeo\": [{\"marker\": {\"colorbar\": {\"outlinewidth\": 0, \"ticks\": \"\"}}, \"type\": \"scattergeo\"}], \"scattergl\": [{\"marker\": {\"colorbar\": {\"outlinewidth\": 0, \"ticks\": \"\"}}, \"type\": \"scattergl\"}], \"scattermapbox\": [{\"marker\": {\"colorbar\": {\"outlinewidth\": 0, \"ticks\": \"\"}}, \"type\": \"scattermapbox\"}], \"scatterpolar\": [{\"marker\": {\"colorbar\": {\"outlinewidth\": 0, \"ticks\": \"\"}}, \"type\": \"scatterpolar\"}], \"scatterpolargl\": [{\"marker\": {\"colorbar\": {\"outlinewidth\": 0, \"ticks\": \"\"}}, \"type\": \"scatterpolargl\"}], \"scatterternary\": [{\"marker\": {\"colorbar\": {\"outlinewidth\": 0, \"ticks\": \"\"}}, \"type\": \"scatterternary\"}], \"surface\": [{\"colorbar\": {\"outlinewidth\": 0, \"ticks\": \"\"}, \"colorscale\": [[0.0, \"#0d0887\"], [0.1111111111111111, \"#46039f\"], [0.2222222222222222, \"#7201a8\"], [0.3333333333333333, \"#9c179e\"], [0.4444444444444444, \"#bd3786\"], [0.5555555555555556, \"#d8576b\"], [0.6666666666666666, \"#ed7953\"], [0.7777777777777778, \"#fb9f3a\"], [0.8888888888888888, \"#fdca26\"], [1.0, \"#f0f921\"]], \"type\": \"surface\"}], \"table\": [{\"cells\": {\"fill\": {\"color\": \"#EBF0F8\"}, \"line\": {\"color\": \"white\"}}, \"header\": {\"fill\": {\"color\": \"#C8D4E3\"}, \"line\": {\"color\": \"white\"}}, \"type\": \"table\"}]}, \"layout\": {\"annotationdefaults\": {\"arrowcolor\": \"#2a3f5f\", \"arrowhead\": 0, \"arrowwidth\": 1}, \"autotypenumbers\": \"strict\", \"coloraxis\": {\"colorbar\": {\"outlinewidth\": 0, \"ticks\": \"\"}}, \"colorscale\": {\"diverging\": [[0, \"#8e0152\"], [0.1, \"#c51b7d\"], [0.2, \"#de77ae\"], [0.3, \"#f1b6da\"], [0.4, \"#fde0ef\"], [0.5, \"#f7f7f7\"], [0.6, \"#e6f5d0\"], [0.7, \"#b8e186\"], [0.8, \"#7fbc41\"], [0.9, \"#4d9221\"], [1, \"#276419\"]], \"sequential\": [[0.0, \"#0d0887\"], [0.1111111111111111, \"#46039f\"], [0.2222222222222222, \"#7201a8\"], [0.3333333333333333, \"#9c179e\"], [0.4444444444444444, \"#bd3786\"], [0.5555555555555556, \"#d8576b\"], [0.6666666666666666, \"#ed7953\"], [0.7777777777777778, \"#fb9f3a\"], [0.8888888888888888, \"#fdca26\"], [1.0, \"#f0f921\"]], \"sequentialminus\": [[0.0, \"#0d0887\"], [0.1111111111111111, \"#46039f\"], [0.2222222222222222, \"#7201a8\"], [0.3333333333333333, \"#9c179e\"], [0.4444444444444444, \"#bd3786\"], [0.5555555555555556, \"#d8576b\"], [0.6666666666666666, \"#ed7953\"], [0.7777777777777778, \"#fb9f3a\"], [0.8888888888888888, \"#fdca26\"], [1.0, \"#f0f921\"]]}, \"colorway\": [\"#636efa\", \"#EF553B\", \"#00cc96\", \"#ab63fa\", \"#FFA15A\", \"#19d3f3\", \"#FF6692\", \"#B6E880\", \"#FF97FF\", \"#FECB52\"], \"font\": {\"color\": \"#2a3f5f\"}, \"geo\": {\"bgcolor\": \"white\", \"lakecolor\": \"white\", \"landcolor\": \"#E5ECF6\", \"showlakes\": true, \"showland\": true, \"subunitcolor\": \"white\"}, \"hoverlabel\": {\"align\": \"left\"}, \"hovermode\": \"closest\", \"mapbox\": {\"style\": \"light\"}, \"paper_bgcolor\": \"white\", \"plot_bgcolor\": \"#E5ECF6\", \"polar\": {\"angularaxis\": {\"gridcolor\": \"white\", \"linecolor\": \"white\", \"ticks\": \"\"}, \"bgcolor\": \"#E5ECF6\", \"radialaxis\": {\"gridcolor\": \"white\", \"linecolor\": \"white\", \"ticks\": \"\"}}, \"scene\": {\"xaxis\": {\"backgroundcolor\": \"#E5ECF6\", \"gridcolor\": \"white\", \"gridwidth\": 2, \"linecolor\": \"white\", \"showbackground\": true, \"ticks\": \"\", \"zerolinecolor\": \"white\"}, \"yaxis\": {\"backgroundcolor\": \"#E5ECF6\", \"gridcolor\": \"white\", \"gridwidth\": 2, \"linecolor\": \"white\", \"showbackground\": true, \"ticks\": \"\", \"zerolinecolor\": \"white\"}, \"zaxis\": {\"backgroundcolor\": \"#E5ECF6\", \"gridcolor\": \"white\", \"gridwidth\": 2, \"linecolor\": \"white\", \"showbackground\": true, \"ticks\": \"\", \"zerolinecolor\": \"white\"}}, \"shapedefaults\": {\"line\": {\"color\": \"#2a3f5f\"}}, \"ternary\": {\"aaxis\": {\"gridcolor\": \"white\", \"linecolor\": \"white\", \"ticks\": \"\"}, \"baxis\": {\"gridcolor\": \"white\", \"linecolor\": \"white\", \"ticks\": \"\"}, \"bgcolor\": \"#E5ECF6\", \"caxis\": {\"gridcolor\": \"white\", \"linecolor\": \"white\", \"ticks\": \"\"}}, \"title\": {\"x\": 0.05}, \"xaxis\": {\"automargin\": true, \"gridcolor\": \"white\", \"linecolor\": \"white\", \"ticks\": \"\", \"title\": {\"standoff\": 15}, \"zerolinecolor\": \"white\", \"zerolinewidth\": 2}, \"yaxis\": {\"automargin\": true, \"gridcolor\": \"white\", \"linecolor\": \"white\", \"ticks\": \"\", \"title\": {\"standoff\": 15}, \"zerolinecolor\": \"white\", \"zerolinewidth\": 2}}}, \"width\": 700, \"yaxis\": {\"title\": {\"text\": \"Avg Total Fat\"}}},                        {\"responsive\": true}                    ).then(function(){\n",
       "                            \n",
       "var gd = document.getElementById('cabf83f3-b6d9-4bb1-ba9f-348bbf76e1c4');\n",
       "var x = new MutationObserver(function (mutations, observer) {{\n",
       "        var display = window.getComputedStyle(gd).display;\n",
       "        if (!display || display === 'none') {{\n",
       "            console.log([gd, 'removed!']);\n",
       "            Plotly.purge(gd);\n",
       "            observer.disconnect();\n",
       "        }}\n",
       "}});\n",
       "\n",
       "// Listen for the removal of the full notebook cells\n",
       "var notebookContainer = gd.closest('#notebook-container');\n",
       "if (notebookContainer) {{\n",
       "    x.observe(notebookContainer, {childList: true});\n",
       "}}\n",
       "\n",
       "// Listen for the clearing of the current output cell\n",
       "var outputEl = gd.closest('.output');\n",
       "if (outputEl) {{\n",
       "    x.observe(outputEl, {childList: true});\n",
       "}}\n",
       "\n",
       "                        })                };                });            </script>        </div>"
      ]
     },
     "metadata": {},
     "output_type": "display_data"
    }
   ],
   "source": [
    "fat=pd.DataFrame(df.groupby('Category')['Total Fat'].mean())\n",
    "        \n",
    "colors=['gray']*9\n",
    "colors[2]='#C4451C'\n",
    "fig = go.Figure(data=[go.Bar(\n",
    "    x=fat.index,\n",
    "    y=fat['Total Fat'],\n",
    "    marker_color=colors\n",
    ")])\n",
    "fig.update_yaxes(title='Avg Total Fat')\n",
    "fig.update_layout(width=700,height=500)\n",
    "fig.show()"
   ]
  },
  {
   "cell_type": "markdown",
   "id": "russian-fetish",
   "metadata": {
    "papermill": {
     "duration": 0.036059,
     "end_time": "2021-05-10T15:51:29.420079",
     "exception": false,
     "start_time": "2021-05-10T15:51:29.384020",
     "status": "completed"
    },
    "tags": []
   },
   "source": [
    "<font size=5><b>Carbohydrates</b></font>\n",
    "<br>\n",
    "<font size=3>We see that Smoothies & Shakes have the highest Average Carbohydrates as compared to other Categories in the menu.</font>"
   ]
  },
  {
   "cell_type": "code",
   "execution_count": 10,
   "id": "growing-inventory",
   "metadata": {
    "execution": {
     "iopub.execute_input": "2021-05-10T15:51:29.509604Z",
     "iopub.status.busy": "2021-05-10T15:51:29.508863Z",
     "iopub.status.idle": "2021-05-10T15:51:29.513874Z",
     "shell.execute_reply": "2021-05-10T15:51:29.514344Z"
    },
    "papermill": {
     "duration": 0.058132,
     "end_time": "2021-05-10T15:51:29.514524",
     "exception": false,
     "start_time": "2021-05-10T15:51:29.456392",
     "status": "completed"
    },
    "tags": []
   },
   "outputs": [
    {
     "data": {
      "text/html": [
       "<div>                            <div id=\"cc425c26-e041-468f-aeb7-768e3edf4c95\" class=\"plotly-graph-div\" style=\"height:500px; width:700px;\"></div>            <script type=\"text/javascript\">                require([\"plotly\"], function(Plotly) {                    window.PLOTLYENV=window.PLOTLYENV || {};                                    if (document.getElementById(\"cc425c26-e041-468f-aeb7-768e3edf4c95\")) {                    Plotly.newPlot(                        \"cc425c26-e041-468f-aeb7-768e3edf4c95\",                        [{\"marker\": {\"color\": [\"gray\", \"gray\", \"gray\", \"gray\", \"gray\", \"gray\", \"gray\", \"#B82E2E\", \"gray\"]}, \"type\": \"bar\", \"x\": [\"Beef & Pork\", \"Beverages\", \"Breakfast\", \"Chicken & Fish\", \"Coffee & Tea\", \"Desserts\", \"Salads\", \"Smoothies & Shakes\", \"Snacks & Sides\"], \"y\": [40.13333333333333, 28.814814814814813, 49.76190476190476, 49.074074074074076, 44.526315789473685, 34.857142857142854, 21.666666666666668, 90.42857142857143, 29.153846153846153]}],                        {\"height\": 500, \"template\": {\"data\": {\"bar\": [{\"error_x\": {\"color\": \"#2a3f5f\"}, \"error_y\": {\"color\": \"#2a3f5f\"}, \"marker\": {\"line\": {\"color\": \"#E5ECF6\", \"width\": 0.5}}, \"type\": \"bar\"}], \"barpolar\": [{\"marker\": {\"line\": {\"color\": \"#E5ECF6\", \"width\": 0.5}}, \"type\": \"barpolar\"}], \"carpet\": [{\"aaxis\": {\"endlinecolor\": \"#2a3f5f\", \"gridcolor\": \"white\", \"linecolor\": \"white\", \"minorgridcolor\": \"white\", \"startlinecolor\": \"#2a3f5f\"}, \"baxis\": {\"endlinecolor\": \"#2a3f5f\", \"gridcolor\": \"white\", \"linecolor\": \"white\", \"minorgridcolor\": \"white\", \"startlinecolor\": \"#2a3f5f\"}, \"type\": \"carpet\"}], \"choropleth\": [{\"colorbar\": {\"outlinewidth\": 0, \"ticks\": \"\"}, \"type\": \"choropleth\"}], \"contour\": [{\"colorbar\": {\"outlinewidth\": 0, \"ticks\": \"\"}, \"colorscale\": [[0.0, \"#0d0887\"], [0.1111111111111111, \"#46039f\"], [0.2222222222222222, \"#7201a8\"], [0.3333333333333333, \"#9c179e\"], [0.4444444444444444, \"#bd3786\"], [0.5555555555555556, \"#d8576b\"], [0.6666666666666666, \"#ed7953\"], [0.7777777777777778, \"#fb9f3a\"], [0.8888888888888888, \"#fdca26\"], [1.0, \"#f0f921\"]], \"type\": \"contour\"}], \"contourcarpet\": [{\"colorbar\": {\"outlinewidth\": 0, \"ticks\": \"\"}, \"type\": \"contourcarpet\"}], \"heatmap\": [{\"colorbar\": {\"outlinewidth\": 0, \"ticks\": \"\"}, \"colorscale\": [[0.0, \"#0d0887\"], [0.1111111111111111, \"#46039f\"], [0.2222222222222222, \"#7201a8\"], [0.3333333333333333, \"#9c179e\"], [0.4444444444444444, \"#bd3786\"], [0.5555555555555556, \"#d8576b\"], [0.6666666666666666, \"#ed7953\"], [0.7777777777777778, \"#fb9f3a\"], [0.8888888888888888, \"#fdca26\"], [1.0, \"#f0f921\"]], \"type\": \"heatmap\"}], \"heatmapgl\": [{\"colorbar\": {\"outlinewidth\": 0, \"ticks\": \"\"}, \"colorscale\": [[0.0, \"#0d0887\"], [0.1111111111111111, \"#46039f\"], [0.2222222222222222, \"#7201a8\"], [0.3333333333333333, \"#9c179e\"], [0.4444444444444444, \"#bd3786\"], [0.5555555555555556, \"#d8576b\"], [0.6666666666666666, \"#ed7953\"], [0.7777777777777778, \"#fb9f3a\"], [0.8888888888888888, \"#fdca26\"], [1.0, \"#f0f921\"]], \"type\": \"heatmapgl\"}], \"histogram\": [{\"marker\": {\"colorbar\": {\"outlinewidth\": 0, \"ticks\": \"\"}}, \"type\": \"histogram\"}], \"histogram2d\": [{\"colorbar\": {\"outlinewidth\": 0, \"ticks\": \"\"}, \"colorscale\": [[0.0, \"#0d0887\"], [0.1111111111111111, \"#46039f\"], [0.2222222222222222, \"#7201a8\"], [0.3333333333333333, \"#9c179e\"], [0.4444444444444444, \"#bd3786\"], [0.5555555555555556, \"#d8576b\"], [0.6666666666666666, \"#ed7953\"], [0.7777777777777778, \"#fb9f3a\"], [0.8888888888888888, \"#fdca26\"], [1.0, \"#f0f921\"]], \"type\": \"histogram2d\"}], \"histogram2dcontour\": [{\"colorbar\": {\"outlinewidth\": 0, \"ticks\": \"\"}, \"colorscale\": [[0.0, \"#0d0887\"], [0.1111111111111111, \"#46039f\"], [0.2222222222222222, \"#7201a8\"], [0.3333333333333333, \"#9c179e\"], [0.4444444444444444, \"#bd3786\"], [0.5555555555555556, \"#d8576b\"], [0.6666666666666666, \"#ed7953\"], [0.7777777777777778, \"#fb9f3a\"], [0.8888888888888888, \"#fdca26\"], [1.0, \"#f0f921\"]], \"type\": \"histogram2dcontour\"}], \"mesh3d\": [{\"colorbar\": {\"outlinewidth\": 0, \"ticks\": \"\"}, \"type\": \"mesh3d\"}], \"parcoords\": [{\"line\": {\"colorbar\": {\"outlinewidth\": 0, \"ticks\": \"\"}}, \"type\": \"parcoords\"}], \"pie\": [{\"automargin\": true, \"type\": \"pie\"}], \"scatter\": [{\"marker\": {\"colorbar\": {\"outlinewidth\": 0, \"ticks\": \"\"}}, \"type\": \"scatter\"}], \"scatter3d\": [{\"line\": {\"colorbar\": {\"outlinewidth\": 0, \"ticks\": \"\"}}, \"marker\": {\"colorbar\": {\"outlinewidth\": 0, \"ticks\": \"\"}}, \"type\": \"scatter3d\"}], \"scattercarpet\": [{\"marker\": {\"colorbar\": {\"outlinewidth\": 0, \"ticks\": \"\"}}, \"type\": \"scattercarpet\"}], \"scattergeo\": [{\"marker\": {\"colorbar\": {\"outlinewidth\": 0, \"ticks\": \"\"}}, \"type\": \"scattergeo\"}], \"scattergl\": [{\"marker\": {\"colorbar\": {\"outlinewidth\": 0, \"ticks\": \"\"}}, \"type\": \"scattergl\"}], \"scattermapbox\": [{\"marker\": {\"colorbar\": {\"outlinewidth\": 0, \"ticks\": \"\"}}, \"type\": \"scattermapbox\"}], \"scatterpolar\": [{\"marker\": {\"colorbar\": {\"outlinewidth\": 0, \"ticks\": \"\"}}, \"type\": \"scatterpolar\"}], \"scatterpolargl\": [{\"marker\": {\"colorbar\": {\"outlinewidth\": 0, \"ticks\": \"\"}}, \"type\": \"scatterpolargl\"}], \"scatterternary\": [{\"marker\": {\"colorbar\": {\"outlinewidth\": 0, \"ticks\": \"\"}}, \"type\": \"scatterternary\"}], \"surface\": [{\"colorbar\": {\"outlinewidth\": 0, \"ticks\": \"\"}, \"colorscale\": [[0.0, \"#0d0887\"], [0.1111111111111111, \"#46039f\"], [0.2222222222222222, \"#7201a8\"], [0.3333333333333333, \"#9c179e\"], [0.4444444444444444, \"#bd3786\"], [0.5555555555555556, \"#d8576b\"], [0.6666666666666666, \"#ed7953\"], [0.7777777777777778, \"#fb9f3a\"], [0.8888888888888888, \"#fdca26\"], [1.0, \"#f0f921\"]], \"type\": \"surface\"}], \"table\": [{\"cells\": {\"fill\": {\"color\": \"#EBF0F8\"}, \"line\": {\"color\": \"white\"}}, \"header\": {\"fill\": {\"color\": \"#C8D4E3\"}, \"line\": {\"color\": \"white\"}}, \"type\": \"table\"}]}, \"layout\": {\"annotationdefaults\": {\"arrowcolor\": \"#2a3f5f\", \"arrowhead\": 0, \"arrowwidth\": 1}, \"autotypenumbers\": \"strict\", \"coloraxis\": {\"colorbar\": {\"outlinewidth\": 0, \"ticks\": \"\"}}, \"colorscale\": {\"diverging\": [[0, \"#8e0152\"], [0.1, \"#c51b7d\"], [0.2, \"#de77ae\"], [0.3, \"#f1b6da\"], [0.4, \"#fde0ef\"], [0.5, \"#f7f7f7\"], [0.6, \"#e6f5d0\"], [0.7, \"#b8e186\"], [0.8, \"#7fbc41\"], [0.9, \"#4d9221\"], [1, \"#276419\"]], \"sequential\": [[0.0, \"#0d0887\"], [0.1111111111111111, \"#46039f\"], [0.2222222222222222, \"#7201a8\"], [0.3333333333333333, \"#9c179e\"], [0.4444444444444444, \"#bd3786\"], [0.5555555555555556, \"#d8576b\"], [0.6666666666666666, \"#ed7953\"], [0.7777777777777778, \"#fb9f3a\"], [0.8888888888888888, \"#fdca26\"], [1.0, \"#f0f921\"]], \"sequentialminus\": [[0.0, \"#0d0887\"], [0.1111111111111111, \"#46039f\"], [0.2222222222222222, \"#7201a8\"], [0.3333333333333333, \"#9c179e\"], [0.4444444444444444, \"#bd3786\"], [0.5555555555555556, \"#d8576b\"], [0.6666666666666666, \"#ed7953\"], [0.7777777777777778, \"#fb9f3a\"], [0.8888888888888888, \"#fdca26\"], [1.0, \"#f0f921\"]]}, \"colorway\": [\"#636efa\", \"#EF553B\", \"#00cc96\", \"#ab63fa\", \"#FFA15A\", \"#19d3f3\", \"#FF6692\", \"#B6E880\", \"#FF97FF\", \"#FECB52\"], \"font\": {\"color\": \"#2a3f5f\"}, \"geo\": {\"bgcolor\": \"white\", \"lakecolor\": \"white\", \"landcolor\": \"#E5ECF6\", \"showlakes\": true, \"showland\": true, \"subunitcolor\": \"white\"}, \"hoverlabel\": {\"align\": \"left\"}, \"hovermode\": \"closest\", \"mapbox\": {\"style\": \"light\"}, \"paper_bgcolor\": \"white\", \"plot_bgcolor\": \"#E5ECF6\", \"polar\": {\"angularaxis\": {\"gridcolor\": \"white\", \"linecolor\": \"white\", \"ticks\": \"\"}, \"bgcolor\": \"#E5ECF6\", \"radialaxis\": {\"gridcolor\": \"white\", \"linecolor\": \"white\", \"ticks\": \"\"}}, \"scene\": {\"xaxis\": {\"backgroundcolor\": \"#E5ECF6\", \"gridcolor\": \"white\", \"gridwidth\": 2, \"linecolor\": \"white\", \"showbackground\": true, \"ticks\": \"\", \"zerolinecolor\": \"white\"}, \"yaxis\": {\"backgroundcolor\": \"#E5ECF6\", \"gridcolor\": \"white\", \"gridwidth\": 2, \"linecolor\": \"white\", \"showbackground\": true, \"ticks\": \"\", \"zerolinecolor\": \"white\"}, \"zaxis\": {\"backgroundcolor\": \"#E5ECF6\", \"gridcolor\": \"white\", \"gridwidth\": 2, \"linecolor\": \"white\", \"showbackground\": true, \"ticks\": \"\", \"zerolinecolor\": \"white\"}}, \"shapedefaults\": {\"line\": {\"color\": \"#2a3f5f\"}}, \"ternary\": {\"aaxis\": {\"gridcolor\": \"white\", \"linecolor\": \"white\", \"ticks\": \"\"}, \"baxis\": {\"gridcolor\": \"white\", \"linecolor\": \"white\", \"ticks\": \"\"}, \"bgcolor\": \"#E5ECF6\", \"caxis\": {\"gridcolor\": \"white\", \"linecolor\": \"white\", \"ticks\": \"\"}}, \"title\": {\"x\": 0.05}, \"xaxis\": {\"automargin\": true, \"gridcolor\": \"white\", \"linecolor\": \"white\", \"ticks\": \"\", \"title\": {\"standoff\": 15}, \"zerolinecolor\": \"white\", \"zerolinewidth\": 2}, \"yaxis\": {\"automargin\": true, \"gridcolor\": \"white\", \"linecolor\": \"white\", \"ticks\": \"\", \"title\": {\"standoff\": 15}, \"zerolinecolor\": \"white\", \"zerolinewidth\": 2}}}, \"width\": 700, \"yaxis\": {\"title\": {\"text\": \"Avg Carbohydrates\"}}},                        {\"responsive\": true}                    ).then(function(){\n",
       "                            \n",
       "var gd = document.getElementById('cc425c26-e041-468f-aeb7-768e3edf4c95');\n",
       "var x = new MutationObserver(function (mutations, observer) {{\n",
       "        var display = window.getComputedStyle(gd).display;\n",
       "        if (!display || display === 'none') {{\n",
       "            console.log([gd, 'removed!']);\n",
       "            Plotly.purge(gd);\n",
       "            observer.disconnect();\n",
       "        }}\n",
       "}});\n",
       "\n",
       "// Listen for the removal of the full notebook cells\n",
       "var notebookContainer = gd.closest('#notebook-container');\n",
       "if (notebookContainer) {{\n",
       "    x.observe(notebookContainer, {childList: true});\n",
       "}}\n",
       "\n",
       "// Listen for the clearing of the current output cell\n",
       "var outputEl = gd.closest('.output');\n",
       "if (outputEl) {{\n",
       "    x.observe(outputEl, {childList: true});\n",
       "}}\n",
       "\n",
       "                        })                };                });            </script>        </div>"
      ]
     },
     "metadata": {},
     "output_type": "display_data"
    }
   ],
   "source": [
    "carbs=pd.DataFrame(df.groupby('Category')['Carbohydrates'].mean())\n",
    "        \n",
    "colors=['gray']*9\n",
    "colors[7]='#B82E2E'\n",
    "fig = go.Figure(data=[go.Bar(\n",
    "    x=carbs.index,\n",
    "    y=carbs['Carbohydrates'],\n",
    "    marker_color=colors\n",
    ")])\n",
    "fig.update_yaxes(title='Avg Carbohydrates')\n",
    "fig.update_layout(width=700,height=500)\n",
    "fig.show()"
   ]
  },
  {
   "cell_type": "markdown",
   "id": "bronze-madness",
   "metadata": {
    "papermill": {
     "duration": 0.03609,
     "end_time": "2021-05-10T15:51:29.587136",
     "exception": false,
     "start_time": "2021-05-10T15:51:29.551046",
     "status": "completed"
    },
    "tags": []
   },
   "source": [
    "<font size=5><b>Sugars</b></font>\n",
    "<br>\n",
    "<font size=3>Carbohydrates are an essential macronutrient the body requires in large amounts to run smoothly, but not all carbs are created equal. Sugars mostly make up carbohydrates.Thus we have Smoothies and Shakes with high Average Sugars Distributions</font>"
   ]
  },
  {
   "cell_type": "code",
   "execution_count": 11,
   "id": "parliamentary-killing",
   "metadata": {
    "execution": {
     "iopub.execute_input": "2021-05-10T15:51:29.662276Z",
     "iopub.status.busy": "2021-05-10T15:51:29.661250Z",
     "iopub.status.idle": "2021-05-10T15:51:29.683061Z",
     "shell.execute_reply": "2021-05-10T15:51:29.682379Z"
    },
    "papermill": {
     "duration": 0.060345,
     "end_time": "2021-05-10T15:51:29.683215",
     "exception": false,
     "start_time": "2021-05-10T15:51:29.622870",
     "status": "completed"
    },
    "tags": []
   },
   "outputs": [
    {
     "data": {
      "text/html": [
       "<div>                            <div id=\"92911399-2d10-4009-b262-3067733fdd38\" class=\"plotly-graph-div\" style=\"height:500px; width:700px;\"></div>            <script type=\"text/javascript\">                require([\"plotly\"], function(Plotly) {                    window.PLOTLYENV=window.PLOTLYENV || {};                                    if (document.getElementById(\"92911399-2d10-4009-b262-3067733fdd38\")) {                    Plotly.newPlot(                        \"92911399-2d10-4009-b262-3067733fdd38\",                        [{\"marker\": {\"color\": [\"gray\", \"gray\", \"gray\", \"gray\", \"gray\", \"gray\", \"gray\", \"#B82E2E\", \"gray\"]}, \"type\": \"bar\", \"x\": [\"Beef & Pork\", \"Beverages\", \"Breakfast\", \"Chicken & Fish\", \"Coffee & Tea\", \"Desserts\", \"Salads\", \"Smoothies & Shakes\", \"Snacks & Sides\"], \"y\": [8.8, 27.85185185185185, 8.261904761904763, 7.333333333333333, 39.61052631578947, 26.142857142857142, 6.833333333333333, 77.89285714285714, 4.076923076923077]}],                        {\"height\": 500, \"template\": {\"data\": {\"bar\": [{\"error_x\": {\"color\": \"#2a3f5f\"}, \"error_y\": {\"color\": \"#2a3f5f\"}, \"marker\": {\"line\": {\"color\": \"#E5ECF6\", \"width\": 0.5}}, \"type\": \"bar\"}], \"barpolar\": [{\"marker\": {\"line\": {\"color\": \"#E5ECF6\", \"width\": 0.5}}, \"type\": \"barpolar\"}], \"carpet\": [{\"aaxis\": {\"endlinecolor\": \"#2a3f5f\", \"gridcolor\": \"white\", \"linecolor\": \"white\", \"minorgridcolor\": \"white\", \"startlinecolor\": \"#2a3f5f\"}, \"baxis\": {\"endlinecolor\": \"#2a3f5f\", \"gridcolor\": \"white\", \"linecolor\": \"white\", \"minorgridcolor\": \"white\", \"startlinecolor\": \"#2a3f5f\"}, \"type\": \"carpet\"}], \"choropleth\": [{\"colorbar\": {\"outlinewidth\": 0, \"ticks\": \"\"}, \"type\": \"choropleth\"}], \"contour\": [{\"colorbar\": {\"outlinewidth\": 0, \"ticks\": \"\"}, \"colorscale\": [[0.0, \"#0d0887\"], [0.1111111111111111, \"#46039f\"], [0.2222222222222222, \"#7201a8\"], [0.3333333333333333, \"#9c179e\"], [0.4444444444444444, \"#bd3786\"], [0.5555555555555556, \"#d8576b\"], [0.6666666666666666, \"#ed7953\"], [0.7777777777777778, \"#fb9f3a\"], [0.8888888888888888, \"#fdca26\"], [1.0, \"#f0f921\"]], \"type\": \"contour\"}], \"contourcarpet\": [{\"colorbar\": {\"outlinewidth\": 0, \"ticks\": \"\"}, \"type\": \"contourcarpet\"}], \"heatmap\": [{\"colorbar\": {\"outlinewidth\": 0, \"ticks\": \"\"}, \"colorscale\": [[0.0, \"#0d0887\"], [0.1111111111111111, \"#46039f\"], [0.2222222222222222, \"#7201a8\"], [0.3333333333333333, \"#9c179e\"], [0.4444444444444444, \"#bd3786\"], [0.5555555555555556, \"#d8576b\"], [0.6666666666666666, \"#ed7953\"], [0.7777777777777778, \"#fb9f3a\"], [0.8888888888888888, \"#fdca26\"], [1.0, \"#f0f921\"]], \"type\": \"heatmap\"}], \"heatmapgl\": [{\"colorbar\": {\"outlinewidth\": 0, \"ticks\": \"\"}, \"colorscale\": [[0.0, \"#0d0887\"], [0.1111111111111111, \"#46039f\"], [0.2222222222222222, \"#7201a8\"], [0.3333333333333333, \"#9c179e\"], [0.4444444444444444, \"#bd3786\"], [0.5555555555555556, \"#d8576b\"], [0.6666666666666666, \"#ed7953\"], [0.7777777777777778, \"#fb9f3a\"], [0.8888888888888888, \"#fdca26\"], [1.0, \"#f0f921\"]], \"type\": \"heatmapgl\"}], \"histogram\": [{\"marker\": {\"colorbar\": {\"outlinewidth\": 0, \"ticks\": \"\"}}, \"type\": \"histogram\"}], \"histogram2d\": [{\"colorbar\": {\"outlinewidth\": 0, \"ticks\": \"\"}, \"colorscale\": [[0.0, \"#0d0887\"], [0.1111111111111111, \"#46039f\"], [0.2222222222222222, \"#7201a8\"], [0.3333333333333333, \"#9c179e\"], [0.4444444444444444, \"#bd3786\"], [0.5555555555555556, \"#d8576b\"], [0.6666666666666666, \"#ed7953\"], [0.7777777777777778, \"#fb9f3a\"], [0.8888888888888888, \"#fdca26\"], [1.0, \"#f0f921\"]], \"type\": \"histogram2d\"}], \"histogram2dcontour\": [{\"colorbar\": {\"outlinewidth\": 0, \"ticks\": \"\"}, \"colorscale\": [[0.0, \"#0d0887\"], [0.1111111111111111, \"#46039f\"], [0.2222222222222222, \"#7201a8\"], [0.3333333333333333, \"#9c179e\"], [0.4444444444444444, \"#bd3786\"], [0.5555555555555556, \"#d8576b\"], [0.6666666666666666, \"#ed7953\"], [0.7777777777777778, \"#fb9f3a\"], [0.8888888888888888, \"#fdca26\"], [1.0, \"#f0f921\"]], \"type\": \"histogram2dcontour\"}], \"mesh3d\": [{\"colorbar\": {\"outlinewidth\": 0, \"ticks\": \"\"}, \"type\": \"mesh3d\"}], \"parcoords\": [{\"line\": {\"colorbar\": {\"outlinewidth\": 0, \"ticks\": \"\"}}, \"type\": \"parcoords\"}], \"pie\": [{\"automargin\": true, \"type\": \"pie\"}], \"scatter\": [{\"marker\": {\"colorbar\": {\"outlinewidth\": 0, \"ticks\": \"\"}}, \"type\": \"scatter\"}], \"scatter3d\": [{\"line\": {\"colorbar\": {\"outlinewidth\": 0, \"ticks\": \"\"}}, \"marker\": {\"colorbar\": {\"outlinewidth\": 0, \"ticks\": \"\"}}, \"type\": \"scatter3d\"}], \"scattercarpet\": [{\"marker\": {\"colorbar\": {\"outlinewidth\": 0, \"ticks\": \"\"}}, \"type\": \"scattercarpet\"}], \"scattergeo\": [{\"marker\": {\"colorbar\": {\"outlinewidth\": 0, \"ticks\": \"\"}}, \"type\": \"scattergeo\"}], \"scattergl\": [{\"marker\": {\"colorbar\": {\"outlinewidth\": 0, \"ticks\": \"\"}}, \"type\": \"scattergl\"}], \"scattermapbox\": [{\"marker\": {\"colorbar\": {\"outlinewidth\": 0, \"ticks\": \"\"}}, \"type\": \"scattermapbox\"}], \"scatterpolar\": [{\"marker\": {\"colorbar\": {\"outlinewidth\": 0, \"ticks\": \"\"}}, \"type\": \"scatterpolar\"}], \"scatterpolargl\": [{\"marker\": {\"colorbar\": {\"outlinewidth\": 0, \"ticks\": \"\"}}, \"type\": \"scatterpolargl\"}], \"scatterternary\": [{\"marker\": {\"colorbar\": {\"outlinewidth\": 0, \"ticks\": \"\"}}, \"type\": \"scatterternary\"}], \"surface\": [{\"colorbar\": {\"outlinewidth\": 0, \"ticks\": \"\"}, \"colorscale\": [[0.0, \"#0d0887\"], [0.1111111111111111, \"#46039f\"], [0.2222222222222222, \"#7201a8\"], [0.3333333333333333, \"#9c179e\"], [0.4444444444444444, \"#bd3786\"], [0.5555555555555556, \"#d8576b\"], [0.6666666666666666, \"#ed7953\"], [0.7777777777777778, \"#fb9f3a\"], [0.8888888888888888, \"#fdca26\"], [1.0, \"#f0f921\"]], \"type\": \"surface\"}], \"table\": [{\"cells\": {\"fill\": {\"color\": \"#EBF0F8\"}, \"line\": {\"color\": \"white\"}}, \"header\": {\"fill\": {\"color\": \"#C8D4E3\"}, \"line\": {\"color\": \"white\"}}, \"type\": \"table\"}]}, \"layout\": {\"annotationdefaults\": {\"arrowcolor\": \"#2a3f5f\", \"arrowhead\": 0, \"arrowwidth\": 1}, \"autotypenumbers\": \"strict\", \"coloraxis\": {\"colorbar\": {\"outlinewidth\": 0, \"ticks\": \"\"}}, \"colorscale\": {\"diverging\": [[0, \"#8e0152\"], [0.1, \"#c51b7d\"], [0.2, \"#de77ae\"], [0.3, \"#f1b6da\"], [0.4, \"#fde0ef\"], [0.5, \"#f7f7f7\"], [0.6, \"#e6f5d0\"], [0.7, \"#b8e186\"], [0.8, \"#7fbc41\"], [0.9, \"#4d9221\"], [1, \"#276419\"]], \"sequential\": [[0.0, \"#0d0887\"], [0.1111111111111111, \"#46039f\"], [0.2222222222222222, \"#7201a8\"], [0.3333333333333333, \"#9c179e\"], [0.4444444444444444, \"#bd3786\"], [0.5555555555555556, \"#d8576b\"], [0.6666666666666666, \"#ed7953\"], [0.7777777777777778, \"#fb9f3a\"], [0.8888888888888888, \"#fdca26\"], [1.0, \"#f0f921\"]], \"sequentialminus\": [[0.0, \"#0d0887\"], [0.1111111111111111, \"#46039f\"], [0.2222222222222222, \"#7201a8\"], [0.3333333333333333, \"#9c179e\"], [0.4444444444444444, \"#bd3786\"], [0.5555555555555556, \"#d8576b\"], [0.6666666666666666, \"#ed7953\"], [0.7777777777777778, \"#fb9f3a\"], [0.8888888888888888, \"#fdca26\"], [1.0, \"#f0f921\"]]}, \"colorway\": [\"#636efa\", \"#EF553B\", \"#00cc96\", \"#ab63fa\", \"#FFA15A\", \"#19d3f3\", \"#FF6692\", \"#B6E880\", \"#FF97FF\", \"#FECB52\"], \"font\": {\"color\": \"#2a3f5f\"}, \"geo\": {\"bgcolor\": \"white\", \"lakecolor\": \"white\", \"landcolor\": \"#E5ECF6\", \"showlakes\": true, \"showland\": true, \"subunitcolor\": \"white\"}, \"hoverlabel\": {\"align\": \"left\"}, \"hovermode\": \"closest\", \"mapbox\": {\"style\": \"light\"}, \"paper_bgcolor\": \"white\", \"plot_bgcolor\": \"#E5ECF6\", \"polar\": {\"angularaxis\": {\"gridcolor\": \"white\", \"linecolor\": \"white\", \"ticks\": \"\"}, \"bgcolor\": \"#E5ECF6\", \"radialaxis\": {\"gridcolor\": \"white\", \"linecolor\": \"white\", \"ticks\": \"\"}}, \"scene\": {\"xaxis\": {\"backgroundcolor\": \"#E5ECF6\", \"gridcolor\": \"white\", \"gridwidth\": 2, \"linecolor\": \"white\", \"showbackground\": true, \"ticks\": \"\", \"zerolinecolor\": \"white\"}, \"yaxis\": {\"backgroundcolor\": \"#E5ECF6\", \"gridcolor\": \"white\", \"gridwidth\": 2, \"linecolor\": \"white\", \"showbackground\": true, \"ticks\": \"\", \"zerolinecolor\": \"white\"}, \"zaxis\": {\"backgroundcolor\": \"#E5ECF6\", \"gridcolor\": \"white\", \"gridwidth\": 2, \"linecolor\": \"white\", \"showbackground\": true, \"ticks\": \"\", \"zerolinecolor\": \"white\"}}, \"shapedefaults\": {\"line\": {\"color\": \"#2a3f5f\"}}, \"ternary\": {\"aaxis\": {\"gridcolor\": \"white\", \"linecolor\": \"white\", \"ticks\": \"\"}, \"baxis\": {\"gridcolor\": \"white\", \"linecolor\": \"white\", \"ticks\": \"\"}, \"bgcolor\": \"#E5ECF6\", \"caxis\": {\"gridcolor\": \"white\", \"linecolor\": \"white\", \"ticks\": \"\"}}, \"title\": {\"x\": 0.05}, \"xaxis\": {\"automargin\": true, \"gridcolor\": \"white\", \"linecolor\": \"white\", \"ticks\": \"\", \"title\": {\"standoff\": 15}, \"zerolinecolor\": \"white\", \"zerolinewidth\": 2}, \"yaxis\": {\"automargin\": true, \"gridcolor\": \"white\", \"linecolor\": \"white\", \"ticks\": \"\", \"title\": {\"standoff\": 15}, \"zerolinecolor\": \"white\", \"zerolinewidth\": 2}}}, \"width\": 700, \"yaxis\": {\"title\": {\"text\": \"Avg Sugars\"}}},                        {\"responsive\": true}                    ).then(function(){\n",
       "                            \n",
       "var gd = document.getElementById('92911399-2d10-4009-b262-3067733fdd38');\n",
       "var x = new MutationObserver(function (mutations, observer) {{\n",
       "        var display = window.getComputedStyle(gd).display;\n",
       "        if (!display || display === 'none') {{\n",
       "            console.log([gd, 'removed!']);\n",
       "            Plotly.purge(gd);\n",
       "            observer.disconnect();\n",
       "        }}\n",
       "}});\n",
       "\n",
       "// Listen for the removal of the full notebook cells\n",
       "var notebookContainer = gd.closest('#notebook-container');\n",
       "if (notebookContainer) {{\n",
       "    x.observe(notebookContainer, {childList: true});\n",
       "}}\n",
       "\n",
       "// Listen for the clearing of the current output cell\n",
       "var outputEl = gd.closest('.output');\n",
       "if (outputEl) {{\n",
       "    x.observe(outputEl, {childList: true});\n",
       "}}\n",
       "\n",
       "                        })                };                });            </script>        </div>"
      ]
     },
     "metadata": {},
     "output_type": "display_data"
    }
   ],
   "source": [
    "sugars=pd.DataFrame(df.groupby('Category')['Sugars'].mean())\n",
    "        \n",
    "colors=['gray']*9\n",
    "colors[7]='#B82E2E'\n",
    "fig = go.Figure(data=[go.Bar(\n",
    "    x=sugars.index,\n",
    "    y=sugars['Sugars'],\n",
    "    marker_color=colors\n",
    ")])\n",
    "fig.update_yaxes(title='Avg Sugars')\n",
    "fig.update_layout(width=700,height=500)\n",
    "fig.show()"
   ]
  },
  {
   "cell_type": "markdown",
   "id": "nutritional-banner",
   "metadata": {
    "papermill": {
     "duration": 0.036617,
     "end_time": "2021-05-10T15:51:29.759905",
     "exception": false,
     "start_time": "2021-05-10T15:51:29.723288",
     "status": "completed"
    },
    "tags": []
   },
   "source": [
    "<font size=5><b>Protein</b></font>\n",
    "<br>\n",
    "<font size=3>Large amount of proteins are observed in Chicken & Fish followed by Beef & Pork</font>"
   ]
  },
  {
   "cell_type": "code",
   "execution_count": 12,
   "id": "compound-flash",
   "metadata": {
    "execution": {
     "iopub.execute_input": "2021-05-10T15:51:29.836873Z",
     "iopub.status.busy": "2021-05-10T15:51:29.836085Z",
     "iopub.status.idle": "2021-05-10T15:51:29.855872Z",
     "shell.execute_reply": "2021-05-10T15:51:29.855336Z"
    },
    "papermill": {
     "duration": 0.059213,
     "end_time": "2021-05-10T15:51:29.856020",
     "exception": false,
     "start_time": "2021-05-10T15:51:29.796807",
     "status": "completed"
    },
    "tags": []
   },
   "outputs": [
    {
     "data": {
      "text/html": [
       "<div>                            <div id=\"b9ded4f9-0034-4f1d-90b2-ea36363acc16\" class=\"plotly-graph-div\" style=\"height:500px; width:700px;\"></div>            <script type=\"text/javascript\">                require([\"plotly\"], function(Plotly) {                    window.PLOTLYENV=window.PLOTLYENV || {};                                    if (document.getElementById(\"b9ded4f9-0034-4f1d-90b2-ea36363acc16\")) {                    Plotly.newPlot(                        \"b9ded4f9-0034-4f1d-90b2-ea36363acc16\",                        [{\"marker\": {\"color\": [\"gray\", \"gray\", \"gray\", \"#1C8356\", \"gray\", \"gray\", \"gray\", \"gray\", \"gray\"]}, \"type\": \"bar\", \"x\": [\"Beef & Pork\", \"Beverages\", \"Breakfast\", \"Chicken & Fish\", \"Coffee & Tea\", \"Desserts\", \"Salads\", \"Smoothies & Shakes\", \"Snacks & Sides\"], \"y\": [27.333333333333332, 1.3333333333333333, 19.857142857142858, 29.11111111111111, 8.863157894736842, 4.0, 19.833333333333332, 10.857142857142858, 8.384615384615385]}],                        {\"height\": 500, \"template\": {\"data\": {\"bar\": [{\"error_x\": {\"color\": \"#2a3f5f\"}, \"error_y\": {\"color\": \"#2a3f5f\"}, \"marker\": {\"line\": {\"color\": \"#E5ECF6\", \"width\": 0.5}}, \"type\": \"bar\"}], \"barpolar\": [{\"marker\": {\"line\": {\"color\": \"#E5ECF6\", \"width\": 0.5}}, \"type\": \"barpolar\"}], \"carpet\": [{\"aaxis\": {\"endlinecolor\": \"#2a3f5f\", \"gridcolor\": \"white\", \"linecolor\": \"white\", \"minorgridcolor\": \"white\", \"startlinecolor\": \"#2a3f5f\"}, \"baxis\": {\"endlinecolor\": \"#2a3f5f\", \"gridcolor\": \"white\", \"linecolor\": \"white\", \"minorgridcolor\": \"white\", \"startlinecolor\": \"#2a3f5f\"}, \"type\": \"carpet\"}], \"choropleth\": [{\"colorbar\": {\"outlinewidth\": 0, \"ticks\": \"\"}, \"type\": \"choropleth\"}], \"contour\": [{\"colorbar\": {\"outlinewidth\": 0, \"ticks\": \"\"}, \"colorscale\": [[0.0, \"#0d0887\"], [0.1111111111111111, \"#46039f\"], [0.2222222222222222, \"#7201a8\"], [0.3333333333333333, \"#9c179e\"], [0.4444444444444444, \"#bd3786\"], [0.5555555555555556, \"#d8576b\"], [0.6666666666666666, \"#ed7953\"], [0.7777777777777778, \"#fb9f3a\"], [0.8888888888888888, \"#fdca26\"], [1.0, \"#f0f921\"]], \"type\": \"contour\"}], \"contourcarpet\": [{\"colorbar\": {\"outlinewidth\": 0, \"ticks\": \"\"}, \"type\": \"contourcarpet\"}], \"heatmap\": [{\"colorbar\": {\"outlinewidth\": 0, \"ticks\": \"\"}, \"colorscale\": [[0.0, \"#0d0887\"], [0.1111111111111111, \"#46039f\"], [0.2222222222222222, \"#7201a8\"], [0.3333333333333333, \"#9c179e\"], [0.4444444444444444, \"#bd3786\"], [0.5555555555555556, \"#d8576b\"], [0.6666666666666666, \"#ed7953\"], [0.7777777777777778, \"#fb9f3a\"], [0.8888888888888888, \"#fdca26\"], [1.0, \"#f0f921\"]], \"type\": \"heatmap\"}], \"heatmapgl\": [{\"colorbar\": {\"outlinewidth\": 0, \"ticks\": \"\"}, \"colorscale\": [[0.0, \"#0d0887\"], [0.1111111111111111, \"#46039f\"], [0.2222222222222222, \"#7201a8\"], [0.3333333333333333, \"#9c179e\"], [0.4444444444444444, \"#bd3786\"], [0.5555555555555556, \"#d8576b\"], [0.6666666666666666, \"#ed7953\"], [0.7777777777777778, \"#fb9f3a\"], [0.8888888888888888, \"#fdca26\"], [1.0, \"#f0f921\"]], \"type\": \"heatmapgl\"}], \"histogram\": [{\"marker\": {\"colorbar\": {\"outlinewidth\": 0, \"ticks\": \"\"}}, \"type\": \"histogram\"}], \"histogram2d\": [{\"colorbar\": {\"outlinewidth\": 0, \"ticks\": \"\"}, \"colorscale\": [[0.0, \"#0d0887\"], [0.1111111111111111, \"#46039f\"], [0.2222222222222222, \"#7201a8\"], [0.3333333333333333, \"#9c179e\"], [0.4444444444444444, \"#bd3786\"], [0.5555555555555556, \"#d8576b\"], [0.6666666666666666, \"#ed7953\"], [0.7777777777777778, \"#fb9f3a\"], [0.8888888888888888, \"#fdca26\"], [1.0, \"#f0f921\"]], \"type\": \"histogram2d\"}], \"histogram2dcontour\": [{\"colorbar\": {\"outlinewidth\": 0, \"ticks\": \"\"}, \"colorscale\": [[0.0, \"#0d0887\"], [0.1111111111111111, \"#46039f\"], [0.2222222222222222, \"#7201a8\"], [0.3333333333333333, \"#9c179e\"], [0.4444444444444444, \"#bd3786\"], [0.5555555555555556, \"#d8576b\"], [0.6666666666666666, \"#ed7953\"], [0.7777777777777778, \"#fb9f3a\"], [0.8888888888888888, \"#fdca26\"], [1.0, \"#f0f921\"]], \"type\": \"histogram2dcontour\"}], \"mesh3d\": [{\"colorbar\": {\"outlinewidth\": 0, \"ticks\": \"\"}, \"type\": \"mesh3d\"}], \"parcoords\": [{\"line\": {\"colorbar\": {\"outlinewidth\": 0, \"ticks\": \"\"}}, \"type\": \"parcoords\"}], \"pie\": [{\"automargin\": true, \"type\": \"pie\"}], \"scatter\": [{\"marker\": {\"colorbar\": {\"outlinewidth\": 0, \"ticks\": \"\"}}, \"type\": \"scatter\"}], \"scatter3d\": [{\"line\": {\"colorbar\": {\"outlinewidth\": 0, \"ticks\": \"\"}}, \"marker\": {\"colorbar\": {\"outlinewidth\": 0, \"ticks\": \"\"}}, \"type\": \"scatter3d\"}], \"scattercarpet\": [{\"marker\": {\"colorbar\": {\"outlinewidth\": 0, \"ticks\": \"\"}}, \"type\": \"scattercarpet\"}], \"scattergeo\": [{\"marker\": {\"colorbar\": {\"outlinewidth\": 0, \"ticks\": \"\"}}, \"type\": \"scattergeo\"}], \"scattergl\": [{\"marker\": {\"colorbar\": {\"outlinewidth\": 0, \"ticks\": \"\"}}, \"type\": \"scattergl\"}], \"scattermapbox\": [{\"marker\": {\"colorbar\": {\"outlinewidth\": 0, \"ticks\": \"\"}}, \"type\": \"scattermapbox\"}], \"scatterpolar\": [{\"marker\": {\"colorbar\": {\"outlinewidth\": 0, \"ticks\": \"\"}}, \"type\": \"scatterpolar\"}], \"scatterpolargl\": [{\"marker\": {\"colorbar\": {\"outlinewidth\": 0, \"ticks\": \"\"}}, \"type\": \"scatterpolargl\"}], \"scatterternary\": [{\"marker\": {\"colorbar\": {\"outlinewidth\": 0, \"ticks\": \"\"}}, \"type\": \"scatterternary\"}], \"surface\": [{\"colorbar\": {\"outlinewidth\": 0, \"ticks\": \"\"}, \"colorscale\": [[0.0, \"#0d0887\"], [0.1111111111111111, \"#46039f\"], [0.2222222222222222, \"#7201a8\"], [0.3333333333333333, \"#9c179e\"], [0.4444444444444444, \"#bd3786\"], [0.5555555555555556, \"#d8576b\"], [0.6666666666666666, \"#ed7953\"], [0.7777777777777778, \"#fb9f3a\"], [0.8888888888888888, \"#fdca26\"], [1.0, \"#f0f921\"]], \"type\": \"surface\"}], \"table\": [{\"cells\": {\"fill\": {\"color\": \"#EBF0F8\"}, \"line\": {\"color\": \"white\"}}, \"header\": {\"fill\": {\"color\": \"#C8D4E3\"}, \"line\": {\"color\": \"white\"}}, \"type\": \"table\"}]}, \"layout\": {\"annotationdefaults\": {\"arrowcolor\": \"#2a3f5f\", \"arrowhead\": 0, \"arrowwidth\": 1}, \"autotypenumbers\": \"strict\", \"coloraxis\": {\"colorbar\": {\"outlinewidth\": 0, \"ticks\": \"\"}}, \"colorscale\": {\"diverging\": [[0, \"#8e0152\"], [0.1, \"#c51b7d\"], [0.2, \"#de77ae\"], [0.3, \"#f1b6da\"], [0.4, \"#fde0ef\"], [0.5, \"#f7f7f7\"], [0.6, \"#e6f5d0\"], [0.7, \"#b8e186\"], [0.8, \"#7fbc41\"], [0.9, \"#4d9221\"], [1, \"#276419\"]], \"sequential\": [[0.0, \"#0d0887\"], [0.1111111111111111, \"#46039f\"], [0.2222222222222222, \"#7201a8\"], [0.3333333333333333, \"#9c179e\"], [0.4444444444444444, \"#bd3786\"], [0.5555555555555556, \"#d8576b\"], [0.6666666666666666, \"#ed7953\"], [0.7777777777777778, \"#fb9f3a\"], [0.8888888888888888, \"#fdca26\"], [1.0, \"#f0f921\"]], \"sequentialminus\": [[0.0, \"#0d0887\"], [0.1111111111111111, \"#46039f\"], [0.2222222222222222, \"#7201a8\"], [0.3333333333333333, \"#9c179e\"], [0.4444444444444444, \"#bd3786\"], [0.5555555555555556, \"#d8576b\"], [0.6666666666666666, \"#ed7953\"], [0.7777777777777778, \"#fb9f3a\"], [0.8888888888888888, \"#fdca26\"], [1.0, \"#f0f921\"]]}, \"colorway\": [\"#636efa\", \"#EF553B\", \"#00cc96\", \"#ab63fa\", \"#FFA15A\", \"#19d3f3\", \"#FF6692\", \"#B6E880\", \"#FF97FF\", \"#FECB52\"], \"font\": {\"color\": \"#2a3f5f\"}, \"geo\": {\"bgcolor\": \"white\", \"lakecolor\": \"white\", \"landcolor\": \"#E5ECF6\", \"showlakes\": true, \"showland\": true, \"subunitcolor\": \"white\"}, \"hoverlabel\": {\"align\": \"left\"}, \"hovermode\": \"closest\", \"mapbox\": {\"style\": \"light\"}, \"paper_bgcolor\": \"white\", \"plot_bgcolor\": \"#E5ECF6\", \"polar\": {\"angularaxis\": {\"gridcolor\": \"white\", \"linecolor\": \"white\", \"ticks\": \"\"}, \"bgcolor\": \"#E5ECF6\", \"radialaxis\": {\"gridcolor\": \"white\", \"linecolor\": \"white\", \"ticks\": \"\"}}, \"scene\": {\"xaxis\": {\"backgroundcolor\": \"#E5ECF6\", \"gridcolor\": \"white\", \"gridwidth\": 2, \"linecolor\": \"white\", \"showbackground\": true, \"ticks\": \"\", \"zerolinecolor\": \"white\"}, \"yaxis\": {\"backgroundcolor\": \"#E5ECF6\", \"gridcolor\": \"white\", \"gridwidth\": 2, \"linecolor\": \"white\", \"showbackground\": true, \"ticks\": \"\", \"zerolinecolor\": \"white\"}, \"zaxis\": {\"backgroundcolor\": \"#E5ECF6\", \"gridcolor\": \"white\", \"gridwidth\": 2, \"linecolor\": \"white\", \"showbackground\": true, \"ticks\": \"\", \"zerolinecolor\": \"white\"}}, \"shapedefaults\": {\"line\": {\"color\": \"#2a3f5f\"}}, \"ternary\": {\"aaxis\": {\"gridcolor\": \"white\", \"linecolor\": \"white\", \"ticks\": \"\"}, \"baxis\": {\"gridcolor\": \"white\", \"linecolor\": \"white\", \"ticks\": \"\"}, \"bgcolor\": \"#E5ECF6\", \"caxis\": {\"gridcolor\": \"white\", \"linecolor\": \"white\", \"ticks\": \"\"}}, \"title\": {\"x\": 0.05}, \"xaxis\": {\"automargin\": true, \"gridcolor\": \"white\", \"linecolor\": \"white\", \"ticks\": \"\", \"title\": {\"standoff\": 15}, \"zerolinecolor\": \"white\", \"zerolinewidth\": 2}, \"yaxis\": {\"automargin\": true, \"gridcolor\": \"white\", \"linecolor\": \"white\", \"ticks\": \"\", \"title\": {\"standoff\": 15}, \"zerolinecolor\": \"white\", \"zerolinewidth\": 2}}}, \"width\": 700, \"yaxis\": {\"title\": {\"text\": \"Avg Protein\"}}},                        {\"responsive\": true}                    ).then(function(){\n",
       "                            \n",
       "var gd = document.getElementById('b9ded4f9-0034-4f1d-90b2-ea36363acc16');\n",
       "var x = new MutationObserver(function (mutations, observer) {{\n",
       "        var display = window.getComputedStyle(gd).display;\n",
       "        if (!display || display === 'none') {{\n",
       "            console.log([gd, 'removed!']);\n",
       "            Plotly.purge(gd);\n",
       "            observer.disconnect();\n",
       "        }}\n",
       "}});\n",
       "\n",
       "// Listen for the removal of the full notebook cells\n",
       "var notebookContainer = gd.closest('#notebook-container');\n",
       "if (notebookContainer) {{\n",
       "    x.observe(notebookContainer, {childList: true});\n",
       "}}\n",
       "\n",
       "// Listen for the clearing of the current output cell\n",
       "var outputEl = gd.closest('.output');\n",
       "if (outputEl) {{\n",
       "    x.observe(outputEl, {childList: true});\n",
       "}}\n",
       "\n",
       "                        })                };                });            </script>        </div>"
      ]
     },
     "metadata": {},
     "output_type": "display_data"
    }
   ],
   "source": [
    "protein=pd.DataFrame(df.groupby('Category')['Protein'].mean())\n",
    "        \n",
    "colors=['gray']*9\n",
    "colors[3]='#1C8356'\n",
    "fig = go.Figure(data=[go.Bar(\n",
    "    x=protein.index,\n",
    "    y=protein['Protein'],\n",
    "    marker_color=colors\n",
    ")])\n",
    "fig.update_yaxes(title='Avg Protein')\n",
    "fig.update_layout(width=700,height=500)\n",
    "fig.show()"
   ]
  },
  {
   "cell_type": "markdown",
   "id": "supreme-gibson",
   "metadata": {
    "papermill": {
     "duration": 0.037522,
     "end_time": "2021-05-10T15:51:29.930950",
     "exception": false,
     "start_time": "2021-05-10T15:51:29.893428",
     "status": "completed"
    },
    "tags": []
   },
   "source": [
    "<font size=5><b>Cholesterol</b></font>"
   ]
  },
  {
   "cell_type": "code",
   "execution_count": 13,
   "id": "eight-hometown",
   "metadata": {
    "execution": {
     "iopub.execute_input": "2021-05-10T15:51:30.011142Z",
     "iopub.status.busy": "2021-05-10T15:51:30.010476Z",
     "iopub.status.idle": "2021-05-10T15:51:30.029870Z",
     "shell.execute_reply": "2021-05-10T15:51:30.029298Z"
    },
    "papermill": {
     "duration": 0.060094,
     "end_time": "2021-05-10T15:51:30.030012",
     "exception": false,
     "start_time": "2021-05-10T15:51:29.969918",
     "status": "completed"
    },
    "tags": []
   },
   "outputs": [
    {
     "data": {
      "text/html": [
       "<div>                            <div id=\"be579003-c4af-4b3b-961d-01c860627470\" class=\"plotly-graph-div\" style=\"height:500px; width:700px;\"></div>            <script type=\"text/javascript\">                require([\"plotly\"], function(Plotly) {                    window.PLOTLYENV=window.PLOTLYENV || {};                                    if (document.getElementById(\"be579003-c4af-4b3b-961d-01c860627470\")) {                    Plotly.newPlot(                        \"be579003-c4af-4b3b-961d-01c860627470\",                        [{\"marker\": {\"color\": [\"gray\", \"gray\", \"#85660D\", \"gray\", \"gray\", \"gray\", \"gray\", \"gray\", \"gray\"]}, \"type\": \"bar\", \"x\": [\"Beef & Pork\", \"Beverages\", \"Breakfast\", \"Chicken & Fish\", \"Coffee & Tea\", \"Desserts\", \"Salads\", \"Smoothies & Shakes\", \"Snacks & Sides\"], \"y\": [87.33333333333333, 0.5555555555555556, 152.85714285714286, 75.37037037037037, 27.263157894736842, 15.0, 51.666666666666664, 45.0, 18.46153846153846]}],                        {\"height\": 500, \"template\": {\"data\": {\"bar\": [{\"error_x\": {\"color\": \"#2a3f5f\"}, \"error_y\": {\"color\": \"#2a3f5f\"}, \"marker\": {\"line\": {\"color\": \"#E5ECF6\", \"width\": 0.5}}, \"type\": \"bar\"}], \"barpolar\": [{\"marker\": {\"line\": {\"color\": \"#E5ECF6\", \"width\": 0.5}}, \"type\": \"barpolar\"}], \"carpet\": [{\"aaxis\": {\"endlinecolor\": \"#2a3f5f\", \"gridcolor\": \"white\", \"linecolor\": \"white\", \"minorgridcolor\": \"white\", \"startlinecolor\": \"#2a3f5f\"}, \"baxis\": {\"endlinecolor\": \"#2a3f5f\", \"gridcolor\": \"white\", \"linecolor\": \"white\", \"minorgridcolor\": \"white\", \"startlinecolor\": \"#2a3f5f\"}, \"type\": \"carpet\"}], \"choropleth\": [{\"colorbar\": {\"outlinewidth\": 0, \"ticks\": \"\"}, \"type\": \"choropleth\"}], \"contour\": [{\"colorbar\": {\"outlinewidth\": 0, \"ticks\": \"\"}, \"colorscale\": [[0.0, \"#0d0887\"], [0.1111111111111111, \"#46039f\"], [0.2222222222222222, \"#7201a8\"], [0.3333333333333333, \"#9c179e\"], [0.4444444444444444, \"#bd3786\"], [0.5555555555555556, \"#d8576b\"], [0.6666666666666666, \"#ed7953\"], [0.7777777777777778, \"#fb9f3a\"], [0.8888888888888888, \"#fdca26\"], [1.0, \"#f0f921\"]], \"type\": \"contour\"}], \"contourcarpet\": [{\"colorbar\": {\"outlinewidth\": 0, \"ticks\": \"\"}, \"type\": \"contourcarpet\"}], \"heatmap\": [{\"colorbar\": {\"outlinewidth\": 0, \"ticks\": \"\"}, \"colorscale\": [[0.0, \"#0d0887\"], [0.1111111111111111, \"#46039f\"], [0.2222222222222222, \"#7201a8\"], [0.3333333333333333, \"#9c179e\"], [0.4444444444444444, \"#bd3786\"], [0.5555555555555556, \"#d8576b\"], [0.6666666666666666, \"#ed7953\"], [0.7777777777777778, \"#fb9f3a\"], [0.8888888888888888, \"#fdca26\"], [1.0, \"#f0f921\"]], \"type\": \"heatmap\"}], \"heatmapgl\": [{\"colorbar\": {\"outlinewidth\": 0, \"ticks\": \"\"}, \"colorscale\": [[0.0, \"#0d0887\"], [0.1111111111111111, \"#46039f\"], [0.2222222222222222, \"#7201a8\"], [0.3333333333333333, \"#9c179e\"], [0.4444444444444444, \"#bd3786\"], [0.5555555555555556, \"#d8576b\"], [0.6666666666666666, \"#ed7953\"], [0.7777777777777778, \"#fb9f3a\"], [0.8888888888888888, \"#fdca26\"], [1.0, \"#f0f921\"]], \"type\": \"heatmapgl\"}], \"histogram\": [{\"marker\": {\"colorbar\": {\"outlinewidth\": 0, \"ticks\": \"\"}}, \"type\": \"histogram\"}], \"histogram2d\": [{\"colorbar\": {\"outlinewidth\": 0, \"ticks\": \"\"}, \"colorscale\": [[0.0, \"#0d0887\"], [0.1111111111111111, \"#46039f\"], [0.2222222222222222, \"#7201a8\"], [0.3333333333333333, \"#9c179e\"], [0.4444444444444444, \"#bd3786\"], [0.5555555555555556, \"#d8576b\"], [0.6666666666666666, \"#ed7953\"], [0.7777777777777778, \"#fb9f3a\"], [0.8888888888888888, \"#fdca26\"], [1.0, \"#f0f921\"]], \"type\": \"histogram2d\"}], \"histogram2dcontour\": [{\"colorbar\": {\"outlinewidth\": 0, \"ticks\": \"\"}, \"colorscale\": [[0.0, \"#0d0887\"], [0.1111111111111111, \"#46039f\"], [0.2222222222222222, \"#7201a8\"], [0.3333333333333333, \"#9c179e\"], [0.4444444444444444, \"#bd3786\"], [0.5555555555555556, \"#d8576b\"], [0.6666666666666666, \"#ed7953\"], [0.7777777777777778, \"#fb9f3a\"], [0.8888888888888888, \"#fdca26\"], [1.0, \"#f0f921\"]], \"type\": \"histogram2dcontour\"}], \"mesh3d\": [{\"colorbar\": {\"outlinewidth\": 0, \"ticks\": \"\"}, \"type\": \"mesh3d\"}], \"parcoords\": [{\"line\": {\"colorbar\": {\"outlinewidth\": 0, \"ticks\": \"\"}}, \"type\": \"parcoords\"}], \"pie\": [{\"automargin\": true, \"type\": \"pie\"}], \"scatter\": [{\"marker\": {\"colorbar\": {\"outlinewidth\": 0, \"ticks\": \"\"}}, \"type\": \"scatter\"}], \"scatter3d\": [{\"line\": {\"colorbar\": {\"outlinewidth\": 0, \"ticks\": \"\"}}, \"marker\": {\"colorbar\": {\"outlinewidth\": 0, \"ticks\": \"\"}}, \"type\": \"scatter3d\"}], \"scattercarpet\": [{\"marker\": {\"colorbar\": {\"outlinewidth\": 0, \"ticks\": \"\"}}, \"type\": \"scattercarpet\"}], \"scattergeo\": [{\"marker\": {\"colorbar\": {\"outlinewidth\": 0, \"ticks\": \"\"}}, \"type\": \"scattergeo\"}], \"scattergl\": [{\"marker\": {\"colorbar\": {\"outlinewidth\": 0, \"ticks\": \"\"}}, \"type\": \"scattergl\"}], \"scattermapbox\": [{\"marker\": {\"colorbar\": {\"outlinewidth\": 0, \"ticks\": \"\"}}, \"type\": \"scattermapbox\"}], \"scatterpolar\": [{\"marker\": {\"colorbar\": {\"outlinewidth\": 0, \"ticks\": \"\"}}, \"type\": \"scatterpolar\"}], \"scatterpolargl\": [{\"marker\": {\"colorbar\": {\"outlinewidth\": 0, \"ticks\": \"\"}}, \"type\": \"scatterpolargl\"}], \"scatterternary\": [{\"marker\": {\"colorbar\": {\"outlinewidth\": 0, \"ticks\": \"\"}}, \"type\": \"scatterternary\"}], \"surface\": [{\"colorbar\": {\"outlinewidth\": 0, \"ticks\": \"\"}, \"colorscale\": [[0.0, \"#0d0887\"], [0.1111111111111111, \"#46039f\"], [0.2222222222222222, \"#7201a8\"], [0.3333333333333333, \"#9c179e\"], [0.4444444444444444, \"#bd3786\"], [0.5555555555555556, \"#d8576b\"], [0.6666666666666666, \"#ed7953\"], [0.7777777777777778, \"#fb9f3a\"], [0.8888888888888888, \"#fdca26\"], [1.0, \"#f0f921\"]], \"type\": \"surface\"}], \"table\": [{\"cells\": {\"fill\": {\"color\": \"#EBF0F8\"}, \"line\": {\"color\": \"white\"}}, \"header\": {\"fill\": {\"color\": \"#C8D4E3\"}, \"line\": {\"color\": \"white\"}}, \"type\": \"table\"}]}, \"layout\": {\"annotationdefaults\": {\"arrowcolor\": \"#2a3f5f\", \"arrowhead\": 0, \"arrowwidth\": 1}, \"autotypenumbers\": \"strict\", \"coloraxis\": {\"colorbar\": {\"outlinewidth\": 0, \"ticks\": \"\"}}, \"colorscale\": {\"diverging\": [[0, \"#8e0152\"], [0.1, \"#c51b7d\"], [0.2, \"#de77ae\"], [0.3, \"#f1b6da\"], [0.4, \"#fde0ef\"], [0.5, \"#f7f7f7\"], [0.6, \"#e6f5d0\"], [0.7, \"#b8e186\"], [0.8, \"#7fbc41\"], [0.9, \"#4d9221\"], [1, \"#276419\"]], \"sequential\": [[0.0, \"#0d0887\"], [0.1111111111111111, \"#46039f\"], [0.2222222222222222, \"#7201a8\"], [0.3333333333333333, \"#9c179e\"], [0.4444444444444444, \"#bd3786\"], [0.5555555555555556, \"#d8576b\"], [0.6666666666666666, \"#ed7953\"], [0.7777777777777778, \"#fb9f3a\"], [0.8888888888888888, \"#fdca26\"], [1.0, \"#f0f921\"]], \"sequentialminus\": [[0.0, \"#0d0887\"], [0.1111111111111111, \"#46039f\"], [0.2222222222222222, \"#7201a8\"], [0.3333333333333333, \"#9c179e\"], [0.4444444444444444, \"#bd3786\"], [0.5555555555555556, \"#d8576b\"], [0.6666666666666666, \"#ed7953\"], [0.7777777777777778, \"#fb9f3a\"], [0.8888888888888888, \"#fdca26\"], [1.0, \"#f0f921\"]]}, \"colorway\": [\"#636efa\", \"#EF553B\", \"#00cc96\", \"#ab63fa\", \"#FFA15A\", \"#19d3f3\", \"#FF6692\", \"#B6E880\", \"#FF97FF\", \"#FECB52\"], \"font\": {\"color\": \"#2a3f5f\"}, \"geo\": {\"bgcolor\": \"white\", \"lakecolor\": \"white\", \"landcolor\": \"#E5ECF6\", \"showlakes\": true, \"showland\": true, \"subunitcolor\": \"white\"}, \"hoverlabel\": {\"align\": \"left\"}, \"hovermode\": \"closest\", \"mapbox\": {\"style\": \"light\"}, \"paper_bgcolor\": \"white\", \"plot_bgcolor\": \"#E5ECF6\", \"polar\": {\"angularaxis\": {\"gridcolor\": \"white\", \"linecolor\": \"white\", \"ticks\": \"\"}, \"bgcolor\": \"#E5ECF6\", \"radialaxis\": {\"gridcolor\": \"white\", \"linecolor\": \"white\", \"ticks\": \"\"}}, \"scene\": {\"xaxis\": {\"backgroundcolor\": \"#E5ECF6\", \"gridcolor\": \"white\", \"gridwidth\": 2, \"linecolor\": \"white\", \"showbackground\": true, \"ticks\": \"\", \"zerolinecolor\": \"white\"}, \"yaxis\": {\"backgroundcolor\": \"#E5ECF6\", \"gridcolor\": \"white\", \"gridwidth\": 2, \"linecolor\": \"white\", \"showbackground\": true, \"ticks\": \"\", \"zerolinecolor\": \"white\"}, \"zaxis\": {\"backgroundcolor\": \"#E5ECF6\", \"gridcolor\": \"white\", \"gridwidth\": 2, \"linecolor\": \"white\", \"showbackground\": true, \"ticks\": \"\", \"zerolinecolor\": \"white\"}}, \"shapedefaults\": {\"line\": {\"color\": \"#2a3f5f\"}}, \"ternary\": {\"aaxis\": {\"gridcolor\": \"white\", \"linecolor\": \"white\", \"ticks\": \"\"}, \"baxis\": {\"gridcolor\": \"white\", \"linecolor\": \"white\", \"ticks\": \"\"}, \"bgcolor\": \"#E5ECF6\", \"caxis\": {\"gridcolor\": \"white\", \"linecolor\": \"white\", \"ticks\": \"\"}}, \"title\": {\"x\": 0.05}, \"xaxis\": {\"automargin\": true, \"gridcolor\": \"white\", \"linecolor\": \"white\", \"ticks\": \"\", \"title\": {\"standoff\": 15}, \"zerolinecolor\": \"white\", \"zerolinewidth\": 2}, \"yaxis\": {\"automargin\": true, \"gridcolor\": \"white\", \"linecolor\": \"white\", \"ticks\": \"\", \"title\": {\"standoff\": 15}, \"zerolinecolor\": \"white\", \"zerolinewidth\": 2}}}, \"width\": 700, \"yaxis\": {\"title\": {\"text\": \"Avg Cholesterol\"}}},                        {\"responsive\": true}                    ).then(function(){\n",
       "                            \n",
       "var gd = document.getElementById('be579003-c4af-4b3b-961d-01c860627470');\n",
       "var x = new MutationObserver(function (mutations, observer) {{\n",
       "        var display = window.getComputedStyle(gd).display;\n",
       "        if (!display || display === 'none') {{\n",
       "            console.log([gd, 'removed!']);\n",
       "            Plotly.purge(gd);\n",
       "            observer.disconnect();\n",
       "        }}\n",
       "}});\n",
       "\n",
       "// Listen for the removal of the full notebook cells\n",
       "var notebookContainer = gd.closest('#notebook-container');\n",
       "if (notebookContainer) {{\n",
       "    x.observe(notebookContainer, {childList: true});\n",
       "}}\n",
       "\n",
       "// Listen for the clearing of the current output cell\n",
       "var outputEl = gd.closest('.output');\n",
       "if (outputEl) {{\n",
       "    x.observe(outputEl, {childList: true});\n",
       "}}\n",
       "\n",
       "                        })                };                });            </script>        </div>"
      ]
     },
     "metadata": {},
     "output_type": "display_data"
    }
   ],
   "source": [
    "chol=pd.DataFrame(df.groupby('Category')['Cholesterol'].mean())\n",
    "        \n",
    "colors=['gray']*9\n",
    "colors[2]='#85660D'\n",
    "fig = go.Figure(data=[go.Bar(\n",
    "    x=chol.index,\n",
    "    y=chol['Cholesterol'],\n",
    "    marker_color=colors\n",
    ")])\n",
    "fig.update_yaxes(title='Avg Cholesterol')\n",
    "fig.update_layout(width=700,height=500)\n",
    "fig.show()"
   ]
  },
  {
   "cell_type": "markdown",
   "id": "moved-houston",
   "metadata": {
    "papermill": {
     "duration": 0.038456,
     "end_time": "2021-05-10T15:51:30.106713",
     "exception": false,
     "start_time": "2021-05-10T15:51:30.068257",
     "status": "completed"
    },
    "tags": []
   },
   "source": [
    "<font size=4><b>Below we analyze how are Carbohydrates and Sugars related</b></font>"
   ]
  },
  {
   "cell_type": "code",
   "execution_count": 14,
   "id": "spiritual-ordinary",
   "metadata": {
    "execution": {
     "iopub.execute_input": "2021-05-10T15:51:30.211262Z",
     "iopub.status.busy": "2021-05-10T15:51:30.193158Z",
     "iopub.status.idle": "2021-05-10T15:51:30.440822Z",
     "shell.execute_reply": "2021-05-10T15:51:30.440160Z"
    },
    "papermill": {
     "duration": 0.296089,
     "end_time": "2021-05-10T15:51:30.440965",
     "exception": false,
     "start_time": "2021-05-10T15:51:30.144876",
     "status": "completed"
    },
    "tags": []
   },
   "outputs": [
    {
     "data": {
      "text/plain": [
       "Text(0.5, 1.05, 'Carbohydrates vs Sugars')"
      ]
     },
     "execution_count": 14,
     "metadata": {},
     "output_type": "execute_result"
    },
    {
     "data": {
      "image/png": "[encoded data removed]",
      "text/plain": [
       "<Figure size 640x400 with 1 Axes>"
      ]
     },
     "metadata": {},
     "output_type": "display_data"
    }
   ],
   "source": [
    "plt.style.use('ggplot')\n",
    "plt.figure(figsize=(8,5),dpi=80)\n",
    "sns.scatterplot(x='Carbohydrates',y='Sugars',data=df,alpha=0.8,s=60)\n",
    "plt.title('Carbohydrates vs Sugars',x=0.5,y=1.05)"
   ]
  },
  {
   "cell_type": "markdown",
   "id": "scheduled-retail",
   "metadata": {
    "papermill": {
     "duration": 0.045611,
     "end_time": "2021-05-10T15:51:30.529070",
     "exception": false,
     "start_time": "2021-05-10T15:51:30.483459",
     "status": "completed"
    },
    "tags": []
   },
   "source": [
    "<font size=5><b>Average Nutrient Analysis(% Daily Value) for each of the Categories</b></font>\n"
   ]
  },
  {
   "cell_type": "code",
   "execution_count": 15,
   "id": "statutory-heart",
   "metadata": {
    "execution": {
     "iopub.execute_input": "2021-05-10T15:51:30.632381Z",
     "iopub.status.busy": "2021-05-10T15:51:30.619206Z",
     "iopub.status.idle": "2021-05-10T15:51:30.738693Z",
     "shell.execute_reply": "2021-05-10T15:51:30.739162Z"
    },
    "papermill": {
     "duration": 0.168717,
     "end_time": "2021-05-10T15:51:30.739359",
     "exception": false,
     "start_time": "2021-05-10T15:51:30.570642",
     "status": "completed"
    },
    "tags": []
   },
   "outputs": [
    {
     "data": {
      "text/html": [
       "<style  type=\"text/css\" >\n",
       "#T_f6495_row0_col0{\n",
       "            background-color:  #20928c;\n",
       "            color:  #000000;\n",
       "        }#T_f6495_row0_col1{\n",
       "            background-color:  #472a7a;\n",
       "            color:  #f1f1f1;\n",
       "        }#T_f6495_row0_col2{\n",
       "            background-color:  #404688;\n",
       "            color:  #f1f1f1;\n",
       "        }#T_f6495_row0_col3{\n",
       "            background-color:  #482475;\n",
       "            color:  #f1f1f1;\n",
       "        }#T_f6495_row0_col4,#T_f6495_row0_col7,#T_f6495_row1_col5,#T_f6495_row2_col2,#T_f6495_row4_col0,#T_f6495_row4_col3,#T_f6495_row5_col6,#T_f6495_row6_col1,#T_f6495_row6_col8{\n",
       "            background-color:  #fde725;\n",
       "            color:  #000000;\n",
       "        }#T_f6495_row0_col5{\n",
       "            background-color:  #f4e61e;\n",
       "            color:  #000000;\n",
       "        }#T_f6495_row0_col6{\n",
       "            background-color:  #481668;\n",
       "            color:  #f1f1f1;\n",
       "        }#T_f6495_row0_col8{\n",
       "            background-color:  #471365;\n",
       "            color:  #f1f1f1;\n",
       "        }#T_f6495_row1_col0,#T_f6495_row1_col8{\n",
       "            background-color:  #404588;\n",
       "            color:  #f1f1f1;\n",
       "        }#T_f6495_row1_col1{\n",
       "            background-color:  #29798e;\n",
       "            color:  #000000;\n",
       "        }#T_f6495_row1_col2{\n",
       "            background-color:  #3e4989;\n",
       "            color:  #f1f1f1;\n",
       "        }#T_f6495_row1_col3,#T_f6495_row3_col3{\n",
       "            background-color:  #472e7c;\n",
       "            color:  #f1f1f1;\n",
       "        }#T_f6495_row1_col4{\n",
       "            background-color:  #1f968b;\n",
       "            color:  #000000;\n",
       "        }#T_f6495_row1_col6,#T_f6495_row2_col1,#T_f6495_row3_col5,#T_f6495_row3_col7,#T_f6495_row4_col1,#T_f6495_row5_col0,#T_f6495_row5_col2,#T_f6495_row5_col8,#T_f6495_row6_col3,#T_f6495_row6_col4{\n",
       "            background-color:  #440154;\n",
       "            color:  #f1f1f1;\n",
       "        }#T_f6495_row1_col7{\n",
       "            background-color:  #8ed645;\n",
       "            color:  #000000;\n",
       "        }#T_f6495_row2_col0{\n",
       "            background-color:  #40bd72;\n",
       "            color:  #000000;\n",
       "        }#T_f6495_row2_col3{\n",
       "            background-color:  #26828e;\n",
       "            color:  #000000;\n",
       "        }#T_f6495_row2_col4{\n",
       "            background-color:  #31678e;\n",
       "            color:  #f1f1f1;\n",
       "        }#T_f6495_row2_col5{\n",
       "            background-color:  #482878;\n",
       "            color:  #f1f1f1;\n",
       "        }#T_f6495_row2_col6{\n",
       "            background-color:  #481b6d;\n",
       "            color:  #f1f1f1;\n",
       "        }#T_f6495_row2_col7{\n",
       "            background-color:  #306a8e;\n",
       "            color:  #f1f1f1;\n",
       "        }#T_f6495_row2_col8{\n",
       "            background-color:  #481769;\n",
       "            color:  #f1f1f1;\n",
       "        }#T_f6495_row3_col0{\n",
       "            background-color:  #1f948c;\n",
       "            color:  #000000;\n",
       "        }#T_f6495_row3_col1{\n",
       "            background-color:  #440256;\n",
       "            color:  #f1f1f1;\n",
       "        }#T_f6495_row3_col2{\n",
       "            background-color:  #3d4d8a;\n",
       "            color:  #f1f1f1;\n",
       "        }#T_f6495_row3_col4,#T_f6495_row3_col8{\n",
       "            background-color:  #481c6e;\n",
       "            color:  #f1f1f1;\n",
       "        }#T_f6495_row3_col6{\n",
       "            background-color:  #46085c;\n",
       "            color:  #f1f1f1;\n",
       "        }#T_f6495_row4_col2{\n",
       "            background-color:  #81d34d;\n",
       "            color:  #000000;\n",
       "        }#T_f6495_row4_col4{\n",
       "            background-color:  #26818e;\n",
       "            color:  #000000;\n",
       "        }#T_f6495_row4_col5{\n",
       "            background-color:  #dae319;\n",
       "            color:  #000000;\n",
       "        }#T_f6495_row4_col6{\n",
       "            background-color:  #481d6f;\n",
       "            color:  #f1f1f1;\n",
       "        }#T_f6495_row4_col7{\n",
       "            background-color:  #1f9f88;\n",
       "            color:  #000000;\n",
       "        }#T_f6495_row4_col8{\n",
       "            background-color:  #218e8d;\n",
       "            color:  #000000;\n",
       "        }#T_f6495_row5_col1{\n",
       "            background-color:  #460a5d;\n",
       "            color:  #f1f1f1;\n",
       "        }#T_f6495_row5_col3{\n",
       "            background-color:  #38588c;\n",
       "            color:  #f1f1f1;\n",
       "        }#T_f6495_row5_col4{\n",
       "            background-color:  #2c738e;\n",
       "            color:  #f1f1f1;\n",
       "        }#T_f6495_row5_col5,#T_f6495_row6_col6{\n",
       "            background-color:  #463480;\n",
       "            color:  #f1f1f1;\n",
       "        }#T_f6495_row5_col7{\n",
       "            background-color:  #23888e;\n",
       "            color:  #000000;\n",
       "        }#T_f6495_row6_col0{\n",
       "            background-color:  #450559;\n",
       "            color:  #f1f1f1;\n",
       "        }#T_f6495_row6_col2{\n",
       "            background-color:  #471164;\n",
       "            color:  #f1f1f1;\n",
       "        }#T_f6495_row6_col5{\n",
       "            background-color:  #46075a;\n",
       "            color:  #f1f1f1;\n",
       "        }#T_f6495_row6_col7{\n",
       "            background-color:  #482374;\n",
       "            color:  #f1f1f1;\n",
       "        }</style><table id=\"T_f6495_\" ><thead>    <tr>        <th class=\"index_name level0\" >Category</th>        <th class=\"col_heading level0 col0\" >Beef & Pork</th>        <th class=\"col_heading level0 col1\" >Beverages</th>        <th class=\"col_heading level0 col2\" >Breakfast</th>        <th class=\"col_heading level0 col3\" >Chicken & Fish</th>        <th class=\"col_heading level0 col4\" >Coffee & Tea</th>        <th class=\"col_heading level0 col5\" >Desserts</th>        <th class=\"col_heading level0 col6\" >Salads</th>        <th class=\"col_heading level0 col7\" >Smoothies & Shakes</th>        <th class=\"col_heading level0 col8\" >Snacks & Sides</th>    </tr></thead><tbody>\n",
       "                <tr>\n",
       "                        <th id=\"T_f6495_level0_row0\" class=\"row_heading level0 row0\" >Calcium (% Daily Value)</th>\n",
       "                        <td id=\"T_f6495_row0_col0\" class=\"data row0 col0\" >23.000000</td>\n",
       "                        <td id=\"T_f6495_row0_col1\" class=\"data row0 col1\" >2.962963</td>\n",
       "                        <td id=\"T_f6495_row0_col2\" class=\"data row0 col2\" >16.166667</td>\n",
       "                        <td id=\"T_f6495_row0_col3\" class=\"data row0 col3\" >15.444444</td>\n",
       "                        <td id=\"T_f6495_row0_col4\" class=\"data row0 col4\" >28.294737</td>\n",
       "                        <td id=\"T_f6495_row0_col5\" class=\"data row0 col5\" >11.428571</td>\n",
       "                        <td id=\"T_f6495_row0_col6\" class=\"data row0 col6\" >15.000000</td>\n",
       "                        <td id=\"T_f6495_row0_col7\" class=\"data row0 col7\" >35.571429</td>\n",
       "                        <td id=\"T_f6495_row0_col8\" class=\"data row0 col8\" >6.000000</td>\n",
       "            </tr>\n",
       "            <tr>\n",
       "                        <th id=\"T_f6495_level0_row1\" class=\"row_heading level0 row1\" >Carbohydrates (% Daily Value)</th>\n",
       "                        <td id=\"T_f6495_row1_col0\" class=\"data row1 col0\" >13.466667</td>\n",
       "                        <td id=\"T_f6495_row1_col1\" class=\"data row1 col1\" >9.592593</td>\n",
       "                        <td id=\"T_f6495_row1_col2\" class=\"data row1 col2\" >16.571429</td>\n",
       "                        <td id=\"T_f6495_row1_col3\" class=\"data row1 col3\" >16.333333</td>\n",
       "                        <td id=\"T_f6495_row1_col4\" class=\"data row1 col4\" >14.863158</td>\n",
       "                        <td id=\"T_f6495_row1_col5\" class=\"data row1 col5\" >11.571429</td>\n",
       "                        <td id=\"T_f6495_row1_col6\" class=\"data row1 col6\" >7.166667</td>\n",
       "                        <td id=\"T_f6495_row1_col7\" class=\"data row1 col7\" >30.142857</td>\n",
       "                        <td id=\"T_f6495_row1_col8\" class=\"data row1 col8\" >9.615385</td>\n",
       "            </tr>\n",
       "            <tr>\n",
       "                        <th id=\"T_f6495_level0_row2\" class=\"row_heading level0 row2\" >Cholesterol (% Daily Value)</th>\n",
       "                        <td id=\"T_f6495_row2_col0\" class=\"data row2 col0\" >28.933333</td>\n",
       "                        <td id=\"T_f6495_row2_col1\" class=\"data row2 col1\" >0.185185</td>\n",
       "                        <td id=\"T_f6495_row2_col2\" class=\"data row2 col2\" >50.952381</td>\n",
       "                        <td id=\"T_f6495_row2_col3\" class=\"data row2 col3\" >25.222222</td>\n",
       "                        <td id=\"T_f6495_row2_col4\" class=\"data row2 col4\" >9.378947</td>\n",
       "                        <td id=\"T_f6495_row2_col5\" class=\"data row2 col5\" >4.857143</td>\n",
       "                        <td id=\"T_f6495_row2_col6\" class=\"data row2 col6\" >17.333333</td>\n",
       "                        <td id=\"T_f6495_row2_col7\" class=\"data row2 col7\" >14.714286</td>\n",
       "                        <td id=\"T_f6495_row2_col8\" class=\"data row2 col8\" >6.230769</td>\n",
       "            </tr>\n",
       "            <tr>\n",
       "                        <th id=\"T_f6495_level0_row3\" class=\"row_heading level0 row3\" >Iron (% Daily Value)</th>\n",
       "                        <td id=\"T_f6495_row3_col0\" class=\"data row3 col0\" >23.333333</td>\n",
       "                        <td id=\"T_f6495_row3_col1\" class=\"data row3 col1\" >0.296296</td>\n",
       "                        <td id=\"T_f6495_row3_col2\" class=\"data row3 col2\" >17.142857</td>\n",
       "                        <td id=\"T_f6495_row3_col3\" class=\"data row3 col3\" >16.370370</td>\n",
       "                        <td id=\"T_f6495_row3_col4\" class=\"data row3 col4\" >2.147368</td>\n",
       "                        <td id=\"T_f6495_row3_col5\" class=\"data row3 col5\" >4.000000</td>\n",
       "                        <td id=\"T_f6495_row3_col6\" class=\"data row3 col6\" >10.333333</td>\n",
       "                        <td id=\"T_f6495_row3_col7\" class=\"data row3 col7\" >3.964286</td>\n",
       "                        <td id=\"T_f6495_row3_col8\" class=\"data row3 col8\" >6.615385</td>\n",
       "            </tr>\n",
       "            <tr>\n",
       "                        <th id=\"T_f6495_level0_row4\" class=\"row_heading level0 row4\" >Total Fat (% Daily Value)</th>\n",
       "                        <td id=\"T_f6495_row4_col0\" class=\"data row4 col0\" >38.600000</td>\n",
       "                        <td id=\"T_f6495_row4_col1\" class=\"data row4 col1\" >0.148148</td>\n",
       "                        <td id=\"T_f6495_row4_col2\" class=\"data row4 col2\" >42.666667</td>\n",
       "                        <td id=\"T_f6495_row4_col3\" class=\"data row4 col3\" >41.333333</td>\n",
       "                        <td id=\"T_f6495_row4_col4\" class=\"data row4 col4\" >12.357895</td>\n",
       "                        <td id=\"T_f6495_row4_col5\" class=\"data row4 col5\" >11.142857</td>\n",
       "                        <td id=\"T_f6495_row4_col6\" class=\"data row4 col6\" >18.333333</td>\n",
       "                        <td id=\"T_f6495_row4_col7\" class=\"data row4 col7\" >21.714286</td>\n",
       "                        <td id=\"T_f6495_row4_col8\" class=\"data row4 col8\" >16.230769</td>\n",
       "            </tr>\n",
       "            <tr>\n",
       "                        <th id=\"T_f6495_level0_row5\" class=\"row_heading level0 row5\" >Vitamin A (% Daily Value)</th>\n",
       "                        <td id=\"T_f6495_row5_col0\" class=\"data row5 col0\" >6.933333</td>\n",
       "                        <td id=\"T_f6495_row5_col1\" class=\"data row5 col1\" >0.740741</td>\n",
       "                        <td id=\"T_f6495_row5_col2\" class=\"data row5 col2\" >6.928571</td>\n",
       "                        <td id=\"T_f6495_row5_col3\" class=\"data row5 col3\" >20.444444</td>\n",
       "                        <td id=\"T_f6495_row5_col4\" class=\"data row5 col4\" >10.736842</td>\n",
       "                        <td id=\"T_f6495_row5_col5\" class=\"data row5 col5\" >5.142857</td>\n",
       "                        <td id=\"T_f6495_row5_col6\" class=\"data row5 col6\" >146.666667</td>\n",
       "                        <td id=\"T_f6495_row5_col7\" class=\"data row5 col7\" >18.750000</td>\n",
       "                        <td id=\"T_f6495_row5_col8\" class=\"data row5 col8\" >4.846154</td>\n",
       "            </tr>\n",
       "            <tr>\n",
       "                        <th id=\"T_f6495_level0_row6\" class=\"row_heading level0 row6\" >Vitamin C (% Daily Value)</th>\n",
       "                        <td id=\"T_f6495_row6_col0\" class=\"data row6 col0\" >7.333333</td>\n",
       "                        <td id=\"T_f6495_row6_col1\" class=\"data row6 col1\" >23.481481</td>\n",
       "                        <td id=\"T_f6495_row6_col2\" class=\"data row6 col2\" >8.904762</td>\n",
       "                        <td id=\"T_f6495_row6_col3\" class=\"data row6 col3\" >12.629630</td>\n",
       "                        <td id=\"T_f6495_row6_col4\" class=\"data row6 col4\" >0.000000</td>\n",
       "                        <td id=\"T_f6495_row6_col5\" class=\"data row6 col5\" >4.142857</td>\n",
       "                        <td id=\"T_f6495_row6_col6\" class=\"data row6 col6\" >28.333333</td>\n",
       "                        <td id=\"T_f6495_row6_col7\" class=\"data row6 col7\" >6.964286</td>\n",
       "                        <td id=\"T_f6495_row6_col8\" class=\"data row6 col8\" >28.153846</td>\n",
       "            </tr>\n",
       "    </tbody></table>"
      ],
      "text/plain": [
       "<pandas.io.formats.style.Styler at 0x7f74889a6950>"
      ]
     },
     "execution_count": 15,
     "metadata": {},
     "output_type": "execute_result"
    }
   ],
   "source": [
    "cols=['Vitamin A (% Daily Value)','Vitamin C (% Daily Value)','Calcium (% Daily Value)',\n",
    "      'Iron (% Daily Value)','Total Fat (% Daily Value)',\n",
    "      'Cholesterol (% Daily Value)','Carbohydrates (% Daily Value)']\n",
    "\n",
    "table=df.pivot_table(columns='Category',values=cols)\n",
    "table.style.background_gradient(cmap='viridis')"
   ]
  },
  {
   "cell_type": "markdown",
   "id": "opening-agenda",
   "metadata": {
    "papermill": {
     "duration": 0.041559,
     "end_time": "2021-05-10T15:51:30.824341",
     "exception": false,
     "start_time": "2021-05-10T15:51:30.782782",
     "status": "completed"
    },
    "tags": []
   },
   "source": [
    "<font size=4><b>For each Category below we analyze the items with highest amount of Nutrients in the Mc Donald's menu</b></font>"
   ]
  },
  {
   "cell_type": "markdown",
   "id": "moral-chain",
   "metadata": {
    "papermill": {
     "duration": 0.041311,
     "end_time": "2021-05-10T15:51:30.907766",
     "exception": false,
     "start_time": "2021-05-10T15:51:30.866455",
     "status": "completed"
    },
    "tags": []
   },
   "source": [
    "<font size=5><b>Breakfast</b></font>"
   ]
  },
  {
   "cell_type": "code",
   "execution_count": 16,
   "id": "enormous-education",
   "metadata": {
    "execution": {
     "iopub.execute_input": "2021-05-10T15:51:31.002041Z",
     "iopub.status.busy": "2021-05-10T15:51:31.000045Z",
     "iopub.status.idle": "2021-05-10T15:51:31.031578Z",
     "shell.execute_reply": "2021-05-10T15:51:31.030876Z"
    },
    "papermill": {
     "duration": 0.081313,
     "end_time": "2021-05-10T15:51:31.031722",
     "exception": false,
     "start_time": "2021-05-10T15:51:30.950409",
     "status": "completed"
    },
    "tags": []
   },
   "outputs": [
    {
     "name": "stdout",
     "output_type": "stream",
     "text": [
      "Calories\n",
      "Item\n",
      "Big Breakfast with Hotcakes (Large Biscuit)    1150\n",
      "Name: Calories, dtype: int64\n",
      "----------------------------------------\n",
      "\n",
      "\n",
      "Total Fat\n",
      "Item\n",
      "Big Breakfast with Hotcakes (Large Biscuit)    60.0\n",
      "Name: Total Fat, dtype: float64\n",
      "----------------------------------------\n",
      "\n",
      "\n",
      "Carbohydrates\n",
      "Item\n",
      "Big Breakfast with Hotcakes (Large Biscuit)    116\n",
      "Name: Carbohydrates, dtype: int64\n",
      "----------------------------------------\n",
      "\n",
      "\n",
      "Sodium\n",
      "Item\n",
      "Big Breakfast with Hotcakes and Egg Whites (Large Biscuit)    2290\n",
      "Name: Sodium, dtype: int64\n",
      "----------------------------------------\n",
      "\n",
      "\n",
      "Protein\n",
      "Item\n",
      "Big Breakfast with Hotcakes (Large Biscuit)    36\n",
      "Name: Protein, dtype: int64\n",
      "----------------------------------------\n",
      "\n",
      "\n",
      "Dietary Fiber\n",
      "Item\n",
      "Big Breakfast with Hotcakes (Large Biscuit)    7\n",
      "Name: Dietary Fiber, dtype: int64\n",
      "----------------------------------------\n",
      "\n",
      "\n"
     ]
    }
   ],
   "source": [
    "breakfast=df[df['Category']=='Breakfast']\n",
    "cols=['Calories','Total Fat','Carbohydrates','Sodium','Protein','Dietary Fiber']\n",
    "for col in cols:\n",
    "    print(col)\n",
    "    a=breakfast.groupby('Item')[col].max().sort_values(ascending=False).head(1)\n",
    "    print(a)\n",
    "    print('-'*40)\n",
    "    print('\\n')"
   ]
  },
  {
   "cell_type": "markdown",
   "id": "authentic-penny",
   "metadata": {
    "papermill": {
     "duration": 0.044238,
     "end_time": "2021-05-10T15:51:31.120091",
     "exception": false,
     "start_time": "2021-05-10T15:51:31.075853",
     "status": "completed"
    },
    "tags": []
   },
   "source": [
    "<font size=5><b>Chicken & Fish</b></font>"
   ]
  },
  {
   "cell_type": "code",
   "execution_count": 17,
   "id": "sharp-chemical",
   "metadata": {
    "execution": {
     "iopub.execute_input": "2021-05-10T15:51:31.227660Z",
     "iopub.status.busy": "2021-05-10T15:51:31.226619Z",
     "iopub.status.idle": "2021-05-10T15:51:31.233498Z",
     "shell.execute_reply": "2021-05-10T15:51:31.232628Z"
    },
    "papermill": {
     "duration": 0.071565,
     "end_time": "2021-05-10T15:51:31.233721",
     "exception": false,
     "start_time": "2021-05-10T15:51:31.162156",
     "status": "completed"
    },
    "tags": []
   },
   "outputs": [
    {
     "name": "stdout",
     "output_type": "stream",
     "text": [
      "Calories\n",
      "Item\n",
      "Chicken McNuggets (40 piece)    1880\n",
      "Name: Calories, dtype: int64\n",
      "----------------------------------------\n",
      "\n",
      "\n",
      "Total Fat\n",
      "Item\n",
      "Chicken McNuggets (40 piece)    118.0\n",
      "Name: Total Fat, dtype: float64\n",
      "----------------------------------------\n",
      "\n",
      "\n",
      "Carbohydrates\n",
      "Item\n",
      "Chicken McNuggets (40 piece)    118\n",
      "Name: Carbohydrates, dtype: int64\n",
      "----------------------------------------\n",
      "\n",
      "\n",
      "Sodium\n",
      "Item\n",
      "Chicken McNuggets (40 piece)    3600\n",
      "Name: Sodium, dtype: int64\n",
      "----------------------------------------\n",
      "\n",
      "\n",
      "Protein\n",
      "Item\n",
      "Chicken McNuggets (40 piece)    87\n",
      "Name: Protein, dtype: int64\n",
      "----------------------------------------\n",
      "\n",
      "\n",
      "Dietary Fiber\n",
      "Item\n",
      "Chicken McNuggets (40 piece)    6\n",
      "Name: Dietary Fiber, dtype: int64\n",
      "----------------------------------------\n",
      "\n",
      "\n"
     ]
    }
   ],
   "source": [
    "chfish=df[df['Category']=='Chicken & Fish']\n",
    "cols=['Calories','Total Fat','Carbohydrates','Sodium','Protein','Dietary Fiber']\n",
    "for col in cols:\n",
    "    print(col)\n",
    "    a=chfish.groupby('Item')[col].max().sort_values(ascending=False).head(1)\n",
    "    print(a)\n",
    "    print('-'*40)\n",
    "    print('\\n')"
   ]
  },
  {
   "cell_type": "markdown",
   "id": "short-accommodation",
   "metadata": {
    "papermill": {
     "duration": 0.04277,
     "end_time": "2021-05-10T15:51:31.320422",
     "exception": false,
     "start_time": "2021-05-10T15:51:31.277652",
     "status": "completed"
    },
    "tags": []
   },
   "source": [
    "<font size=5><b>Beverages</b></font>"
   ]
  },
  {
   "cell_type": "code",
   "execution_count": 18,
   "id": "cubic-divide",
   "metadata": {
    "execution": {
     "iopub.execute_input": "2021-05-10T15:51:31.423891Z",
     "iopub.status.busy": "2021-05-10T15:51:31.422483Z",
     "iopub.status.idle": "2021-05-10T15:51:31.439947Z",
     "shell.execute_reply": "2021-05-10T15:51:31.439242Z"
    },
    "papermill": {
     "duration": 0.074579,
     "end_time": "2021-05-10T15:51:31.440092",
     "exception": false,
     "start_time": "2021-05-10T15:51:31.365513",
     "status": "completed"
    },
    "tags": []
   },
   "outputs": [
    {
     "name": "stdout",
     "output_type": "stream",
     "text": [
      "Calories\n",
      "Item\n",
      "Coca-Cola Classic (Large)    280\n",
      "Name: Calories, dtype: int64\n",
      "----------------------------------------\n",
      "\n",
      "\n",
      "Total Fat\n",
      "Item\n",
      "1% Low Fat Milk Jug    2.5\n",
      "Name: Total Fat, dtype: float64\n",
      "----------------------------------------\n",
      "\n",
      "\n",
      "Carbohydrates\n",
      "Item\n",
      "Coca-Cola Classic (Large)    76\n",
      "Name: Carbohydrates, dtype: int64\n",
      "----------------------------------------\n",
      "\n",
      "\n",
      "Sodium\n",
      "Item\n",
      "Diet Dr Pepper (Large)    140\n",
      "Name: Sodium, dtype: int64\n",
      "----------------------------------------\n",
      "\n",
      "\n",
      "Protein\n",
      "Item\n",
      "Fat Free Chocolate Milk Jug    9\n",
      "Name: Protein, dtype: int64\n",
      "----------------------------------------\n",
      "\n",
      "\n",
      "Dietary Fiber\n",
      "Item\n",
      "Fat Free Chocolate Milk Jug    1\n",
      "Name: Dietary Fiber, dtype: int64\n",
      "----------------------------------------\n",
      "\n",
      "\n"
     ]
    }
   ],
   "source": [
    "bev=df[df['Category']=='Beverages']\n",
    "cols=['Calories','Total Fat','Carbohydrates','Sodium','Protein','Dietary Fiber']\n",
    "for col in cols:\n",
    "    print(col)\n",
    "    a=bev.groupby('Item')[col].max().sort_values(ascending=False).head(1)\n",
    "    print(a)\n",
    "    print('-'*40)\n",
    "    print('\\n')"
   ]
  },
  {
   "cell_type": "markdown",
   "id": "extensive-australia",
   "metadata": {
    "papermill": {
     "duration": 0.044505,
     "end_time": "2021-05-10T15:51:31.530394",
     "exception": false,
     "start_time": "2021-05-10T15:51:31.485889",
     "status": "completed"
    },
    "tags": []
   },
   "source": [
    "<font size=5><b>Smoothies & Shakes</b></font>"
   ]
  },
  {
   "cell_type": "code",
   "execution_count": 19,
   "id": "specific-racing",
   "metadata": {
    "execution": {
     "iopub.execute_input": "2021-05-10T15:51:31.642774Z",
     "iopub.status.busy": "2021-05-10T15:51:31.642011Z",
     "iopub.status.idle": "2021-05-10T15:51:31.650608Z",
     "shell.execute_reply": "2021-05-10T15:51:31.649549Z"
    },
    "papermill": {
     "duration": 0.074358,
     "end_time": "2021-05-10T15:51:31.650829",
     "exception": false,
     "start_time": "2021-05-10T15:51:31.576471",
     "status": "completed"
    },
    "tags": []
   },
   "outputs": [
    {
     "name": "stdout",
     "output_type": "stream",
     "text": [
      "Calories\n",
      "Item\n",
      "McFlurry with M&M’s Candies (Medium)    930\n",
      "Name: Calories, dtype: int64\n",
      "----------------------------------------\n",
      "\n",
      "\n",
      "Total Fat\n",
      "Item\n",
      "McFlurry with M&M’s Candies (Medium)    33.0\n",
      "Name: Total Fat, dtype: float64\n",
      "----------------------------------------\n",
      "\n",
      "\n",
      "Carbohydrates\n",
      "Item\n",
      "Chocolate Shake (Large)    141\n",
      "Name: Carbohydrates, dtype: int64\n",
      "----------------------------------------\n",
      "\n",
      "\n",
      "Sodium\n",
      "Item\n",
      "McFlurry with Reese's Peanut Butter Cups (Medium)    400\n",
      "Name: Sodium, dtype: int64\n",
      "----------------------------------------\n",
      "\n",
      "\n",
      "Protein\n",
      "Item\n",
      "McFlurry with Reese's Peanut Butter Cups (Medium)    21\n",
      "Name: Protein, dtype: int64\n",
      "----------------------------------------\n",
      "\n",
      "\n",
      "Dietary Fiber\n",
      "Item\n",
      "Blueberry Pomegranate Smoothie (Large)    5\n",
      "Name: Dietary Fiber, dtype: int64\n",
      "----------------------------------------\n",
      "\n",
      "\n"
     ]
    }
   ],
   "source": [
    "shakes=df[df['Category']=='Smoothies & Shakes']\n",
    "cols=['Calories','Total Fat','Carbohydrates','Sodium','Protein','Dietary Fiber']\n",
    "for col in cols:\n",
    "    print(col)\n",
    "    a=shakes.groupby('Item')[col].max().sort_values(ascending=False).head(1)\n",
    "    print(a)\n",
    "    print('-'*40)\n",
    "    print('\\n')"
   ]
  },
  {
   "cell_type": "markdown",
   "id": "divided-plumbing",
   "metadata": {
    "papermill": {
     "duration": 0.048556,
     "end_time": "2021-05-10T15:51:31.745718",
     "exception": false,
     "start_time": "2021-05-10T15:51:31.697162",
     "status": "completed"
    },
    "tags": []
   },
   "source": [
    "<font size=5><b>Salads</b></font>"
   ]
  },
  {
   "cell_type": "code",
   "execution_count": 20,
   "id": "thick-newcastle",
   "metadata": {
    "execution": {
     "iopub.execute_input": "2021-05-10T15:51:31.852149Z",
     "iopub.status.busy": "2021-05-10T15:51:31.851198Z",
     "iopub.status.idle": "2021-05-10T15:51:31.868252Z",
     "shell.execute_reply": "2021-05-10T15:51:31.867581Z"
    },
    "papermill": {
     "duration": 0.074743,
     "end_time": "2021-05-10T15:51:31.868392",
     "exception": false,
     "start_time": "2021-05-10T15:51:31.793649",
     "status": "completed"
    },
    "tags": []
   },
   "outputs": [
    {
     "name": "stdout",
     "output_type": "stream",
     "text": [
      "Calories\n",
      "Item\n",
      "Premium Southwest Salad with Crispy Chicken    450\n",
      "Name: Calories, dtype: int64\n",
      "----------------------------------------\n",
      "\n",
      "\n",
      "Total Fat\n",
      "Item\n",
      "Premium Southwest Salad with Crispy Chicken    22.0\n",
      "Name: Total Fat, dtype: float64\n",
      "----------------------------------------\n",
      "\n",
      "\n",
      "Carbohydrates\n",
      "Item\n",
      "Premium Southwest Salad with Crispy Chicken    42\n",
      "Name: Carbohydrates, dtype: int64\n",
      "----------------------------------------\n",
      "\n",
      "\n",
      "Sodium\n",
      "Item\n",
      "Premium Bacon Ranch Salad with Crispy Chicken    860\n",
      "Name: Sodium, dtype: int64\n",
      "----------------------------------------\n",
      "\n",
      "\n",
      "Protein\n",
      "Item\n",
      "Premium Bacon Ranch Salad with Grilled Chicken    29\n",
      "Name: Protein, dtype: int64\n",
      "----------------------------------------\n",
      "\n",
      "\n",
      "Dietary Fiber\n",
      "Item\n",
      "Premium Southwest Salad with Crispy Chicken    7\n",
      "Name: Dietary Fiber, dtype: int64\n",
      "----------------------------------------\n",
      "\n",
      "\n",
      "Cholesterol\n",
      "Item\n",
      "Premium Bacon Ranch Salad with Grilled Chicken    85\n",
      "Name: Cholesterol, dtype: int64\n",
      "----------------------------------------\n",
      "\n",
      "\n"
     ]
    }
   ],
   "source": [
    "salads=df[df['Category']=='Salads']\n",
    "cols=['Calories','Total Fat','Carbohydrates','Sodium','Protein','Dietary Fiber','Cholesterol']\n",
    "for col in cols:\n",
    "    print(col)\n",
    "    a=salads.groupby('Item')[col].max().sort_values(ascending=False).head(1)\n",
    "    print(a)\n",
    "    print('-'*40)\n",
    "    print('\\n')"
   ]
  },
  {
   "cell_type": "markdown",
   "id": "devoted-constant",
   "metadata": {
    "papermill": {
     "duration": 0.056206,
     "end_time": "2021-05-10T15:51:31.970793",
     "exception": false,
     "start_time": "2021-05-10T15:51:31.914587",
     "status": "completed"
    },
    "tags": []
   },
   "source": [
    "<font size=5>Do upvote if found insightful🙂</font>"
   ]
  },
  {
   "cell_type": "code",
   "execution_count": null,
   "id": "terminal-division",
   "metadata": {
    "papermill": {
     "duration": 0.057049,
     "end_time": "2021-05-10T15:51:32.085252",
     "exception": false,
     "start_time": "2021-05-10T15:51:32.028203",
     "status": "completed"
    },
    "tags": []
   },
   "outputs": [],
   "source": []
  }
 ],
 "metadata": {
  "kernelspec": {
   "display_name": "Python 3",
   "language": "python",
   "name": "python3"
  },
  "language_info": {
   "codemirror_mode": {
    "name": "ipython",
    "version": 3
   },
   "file_extension": ".py",
   "mimetype": "text/x-python",
   "name": "python",
   "nbconvert_exporter": "python",
   "pygments_lexer": "ipython3",
   "version": "3.7.9"
  },
  "papermill": {
   "default_parameters": {},
   "duration": 17.044595,
   "end_time": "2021-05-10T15:51:32.945534",
   "environment_variables": {},
   "exception": null,
   "input_path": "__notebook__.ipynb",
   "output_path": "__notebook__.ipynb",
   "parameters": {},
   "start_time": "2021-05-10T15:51:15.900939",
   "version": "2.3.2"
  }
 },
 "nbformat": 4,
 "nbformat_minor": 5
}
